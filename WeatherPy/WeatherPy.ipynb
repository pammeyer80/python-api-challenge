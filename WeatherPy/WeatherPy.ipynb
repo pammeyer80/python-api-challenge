{
 "cells": [
  {
   "cell_type": "markdown",
   "metadata": {},
   "source": [
    "# WeatherPy\n",
    "----\n"
   ]
  },
  {
   "cell_type": "code",
   "execution_count": 3,
   "metadata": {
    "scrolled": true
   },
   "outputs": [],
   "source": [
    "# Dependencies and Setup\n",
    "from datetime import date\n",
    "import matplotlib.pyplot as plt\n",
    "import pandas as pd\n",
    "import numpy as np\n",
    "import requests\n",
    "import time\n",
    "from scipy.stats import linregress\n",
    "\n",
    "# Import API key\n",
    "from api_keys import weather_api_key\n",
    "\n",
    "# Incorporated citipy to determine city based on latitude and longitude\n",
    "from citipy import citipy\n",
    "\n",
    "# Output File (CSV)\n",
    "output_data_file = \"../output_data/cities.csv\"\n",
    "\n"
   ]
  },
  {
   "cell_type": "markdown",
   "metadata": {},
   "source": [
    "## City Data"
   ]
  },
  {
   "cell_type": "code",
   "execution_count": 16,
   "metadata": {},
   "outputs": [
    {
     "data": {
      "text/plain": [
       "629"
      ]
     },
     "execution_count": 16,
     "metadata": {},
     "output_type": "execute_result"
    }
   ],
   "source": [
    "# Range of latitudes and longitudes\n",
    "lat_range = (-90, 90)\n",
    "lng_range = (-180, 180)\n",
    "\n",
    "# List for holding lat_lngs and cities\n",
    "lat_lngs = []\n",
    "cities = []\n",
    "\n",
    "# Create a set of random lat and lng combinations\n",
    "lats = np.random.uniform(lat_range[0], lat_range[1], size=1500)\n",
    "lngs = np.random.uniform(lng_range[0], lng_range[1], size=1500)\n",
    "lat_lngs = zip(lats, lngs)\n",
    "\n",
    "# Identify nearest city for each lat, lng combination\n",
    "for lat_lng in lat_lngs:\n",
    "    city = citipy.nearest_city(lat_lng[0], lat_lng[1]).city_name\n",
    "    \n",
    "    # If the city is unique, then add it to a our cities list\n",
    "    if city not in cities:\n",
    "        cities.append(city)\n",
    "\n",
    "# Print the city count to confirm sufficient count\n",
    "len(cities)"
   ]
  },
  {
   "cell_type": "markdown",
   "metadata": {},
   "source": [
    "### Gather Weather Data\n",
    "* Perform a weather check on each city using a series of successive API calls.\n",
    "* Include a print log of each city as it's being processed (with the city number and city name).\n"
   ]
  },
  {
   "cell_type": "code",
   "execution_count": 17,
   "metadata": {},
   "outputs": [
    {
     "name": "stdout",
     "output_type": "stream",
     "text": [
      "Beginning data retrieval...\n",
      "Processing record 1 | City: saskylakh\n",
      "Processing record 2 | City: illoqqortoormiut\n",
      "Could not find all data for city: illoqqortoormiut\n",
      "Processing record 3 | City: lucapa\n",
      "Processing record 4 | City: palmer\n",
      "Processing record 5 | City: vardo\n",
      "Processing record 6 | City: puerto ayora\n",
      "Processing record 7 | City: barnstaple\n",
      "Processing record 8 | City: los llanos de aridane\n",
      "Processing record 9 | City: ushuaia\n",
      "Processing record 10 | City: qaanaaq\n",
      "Processing record 11 | City: klisura\n",
      "Processing record 12 | City: ginir\n",
      "Processing record 13 | City: pevek\n",
      "Processing record 14 | City: forestville\n",
      "Processing record 15 | City: east london\n",
      "Processing record 16 | City: barrow\n",
      "Processing record 17 | City: kloulklubed\n",
      "Processing record 18 | City: attawapiskat\n",
      "Could not find all data for city: attawapiskat\n",
      "Processing record 19 | City: tuktoyaktuk\n",
      "Processing record 20 | City: tasiilaq\n",
      "Processing record 21 | City: nouadhibou\n",
      "Processing record 22 | City: harbour breton\n",
      "Processing record 23 | City: hithadhoo\n",
      "Processing record 24 | City: mount isa\n",
      "Processing record 25 | City: hilo\n",
      "Processing record 26 | City: najran\n",
      "Processing record 27 | City: lorengau\n",
      "Processing record 28 | City: vaini\n",
      "Processing record 29 | City: cape town\n",
      "Processing record 30 | City: khatanga\n",
      "Processing record 31 | City: egvekinot\n",
      "Processing record 32 | City: ketchikan\n",
      "Processing record 33 | City: pastos bons\n",
      "Processing record 34 | City: amasya\n",
      "Processing record 35 | City: albany\n",
      "Processing record 36 | City: lotung\n",
      "Could not find all data for city: lotung\n",
      "Processing record 37 | City: rikitea\n",
      "Processing record 38 | City: thompson\n",
      "Processing record 39 | City: saint-pierre\n",
      "Processing record 40 | City: kapoeta\n",
      "Processing record 41 | City: kiama\n",
      "Processing record 42 | City: batagay\n",
      "Processing record 43 | City: acapulco\n",
      "Processing record 44 | City: palu\n",
      "Processing record 45 | City: lebu\n",
      "Processing record 46 | City: severo-kurilsk\n",
      "Processing record 47 | City: hermanus\n",
      "Processing record 48 | City: sao pedro do sul\n",
      "Processing record 49 | City: hobart\n",
      "Processing record 50 | City: toora-khem\n",
      "Processing record 51 | City: atar\n",
      "Processing record 52 | City: rolim de moura\n",
      "Could not find all data for city: rolim de moura\n",
      "Processing record 53 | City: dublin\n",
      "Processing record 54 | City: mys shmidta\n",
      "Could not find all data for city: mys shmidta\n",
      "Processing record 55 | City: kaitangata\n",
      "Processing record 56 | City: tarko-sale\n",
      "Processing record 57 | City: yunhe\n",
      "Processing record 58 | City: port alfred\n",
      "Processing record 59 | City: srinagar\n",
      "Processing record 60 | City: busselton\n",
      "Processing record 61 | City: richards bay\n",
      "Processing record 62 | City: cabedelo\n",
      "Processing record 63 | City: portland\n",
      "Processing record 64 | City: ostrovnoy\n",
      "Processing record 65 | City: nadym\n",
      "Processing record 66 | City: nikolskoye\n",
      "Processing record 67 | City: drovyanaya\n",
      "Processing record 68 | City: aksu\n",
      "Processing record 69 | City: umzimvubu\n",
      "Could not find all data for city: umzimvubu\n",
      "Processing record 70 | City: kruisfontein\n",
      "Processing record 71 | City: mataura\n",
      "Processing record 72 | City: bambous virieux\n",
      "Processing record 73 | City: tahta\n",
      "Processing record 74 | City: chokurdakh\n",
      "Processing record 75 | City: faanui\n",
      "Processing record 76 | City: nerchinskiy zavod\n",
      "Processing record 77 | City: atuona\n",
      "Processing record 78 | City: taolanaro\n",
      "Could not find all data for city: taolanaro\n",
      "Processing record 79 | City: cumaribo\n",
      "Could not find all data for city: cumaribo\n",
      "Processing record 80 | City: avarua\n",
      "Processing record 81 | City: victoria\n",
      "Processing record 82 | City: loreto\n",
      "Processing record 83 | City: norman wells\n",
      "Processing record 84 | City: bluff\n",
      "Processing record 85 | City: eyl\n",
      "Processing record 86 | City: itoman\n",
      "Processing record 87 | City: idenao\n",
      "Processing record 88 | City: cayenne\n",
      "Processing record 89 | City: ponta do sol\n",
      "Processing record 90 | City: ratnagiri\n",
      "Processing record 91 | City: butaritari\n",
      "Processing record 92 | City: lavrentiya\n",
      "Processing record 93 | City: aksarka\n",
      "Processing record 94 | City: zhigansk\n",
      "Processing record 95 | City: sitka\n",
      "Processing record 96 | City: huarmey\n",
      "Processing record 97 | City: sinuknipan\n",
      "Processing record 98 | City: kahului\n",
      "Processing record 99 | City: fort nelson\n",
      "Processing record 100 | City: ancud\n",
      "Processing record 101 | City: dzhebariki-khaya\n",
      "Processing record 102 | City: banda aceh\n",
      "Processing record 103 | City: pavlovsk\n",
      "Processing record 104 | City: severnoye\n",
      "Processing record 105 | City: anadyr\n",
      "Processing record 106 | City: punta arenas\n",
      "Processing record 107 | City: hualmay\n",
      "Processing record 108 | City: souillac\n",
      "Processing record 109 | City: jomalig\n",
      "Could not find all data for city: jomalig\n",
      "Processing record 110 | City: grao mogol\n",
      "Processing record 111 | City: crotone\n",
      "Processing record 112 | City: adre\n",
      "Processing record 113 | City: cherskiy\n",
      "Processing record 114 | City: stromness\n",
      "Processing record 115 | City: cidreira\n",
      "Processing record 116 | City: ilulissat\n",
      "Processing record 117 | City: safonovo\n",
      "Processing record 118 | City: new norfolk\n",
      "Processing record 119 | City: luocheng\n",
      "Processing record 120 | City: olafsvik\n",
      "Processing record 121 | City: igboho\n",
      "Processing record 122 | City: naerbo\n",
      "Processing record 123 | City: changde\n",
      "Processing record 124 | City: pangnirtung\n",
      "Processing record 125 | City: klaksvik\n",
      "Processing record 126 | City: mitsamiouli\n",
      "Processing record 127 | City: arraial do cabo\n",
      "Processing record 128 | City: kibungo\n",
      "Processing record 129 | City: tessalit\n",
      "Processing record 130 | City: guerrero negro\n",
      "Processing record 131 | City: pombas\n",
      "Processing record 132 | City: conde\n",
      "Processing record 133 | City: carnarvon\n",
      "Processing record 134 | City: georgetown\n",
      "Processing record 135 | City: qandala\n",
      "Processing record 136 | City: saint george\n",
      "Processing record 137 | City: upernavik\n",
      "Processing record 138 | City: merauke\n",
      "Processing record 139 | City: sentyabrskiy\n",
      "Could not find all data for city: sentyabrskiy\n",
      "Processing record 140 | City: khani\n",
      "Processing record 141 | City: yellowknife\n",
      "Processing record 142 | City: narsaq\n",
      "Processing record 143 | City: xiamen\n",
      "Processing record 144 | City: ribeira grande\n",
      "Processing record 145 | City: barentsburg\n",
      "Could not find all data for city: barentsburg\n",
      "Processing record 146 | City: kununurra\n",
      "Processing record 147 | City: chandbali\n",
      "Processing record 148 | City: mount gambier\n",
      "Processing record 149 | City: buala\n",
      "Processing record 150 | City: russell\n",
      "Processing record 151 | City: shimoda\n",
      "Processing record 152 | City: bilibino\n",
      "Processing record 153 | City: sao mateus\n",
      "Processing record 154 | City: roma\n",
      "Processing record 155 | City: phetchabun\n",
      "Processing record 156 | City: geraldton\n",
      "Processing record 157 | City: hasaki\n",
      "Processing record 158 | City: ouesso\n",
      "Processing record 159 | City: naryan-mar\n",
      "Processing record 160 | City: cedar city\n",
      "Processing record 161 | City: sutton\n",
      "Processing record 162 | City: longyearbyen\n",
      "Processing record 163 | City: khandyga\n",
      "Processing record 164 | City: dikson\n",
      "Processing record 165 | City: izumo\n",
      "Processing record 166 | City: amderma\n",
      "Could not find all data for city: amderma\n",
      "Processing record 167 | City: saint-georges\n",
      "Processing record 168 | City: chuy\n",
      "Processing record 169 | City: chuchkovo\n",
      "Processing record 170 | City: virden\n",
      "Processing record 171 | City: sao joao da barra\n",
      "Processing record 172 | City: manokwari\n",
      "Processing record 173 | City: shihezi\n",
      "Processing record 174 | City: bredasdorp\n",
      "Processing record 175 | City: mullaitivu\n",
      "Could not find all data for city: mullaitivu\n",
      "Processing record 176 | City: airai\n",
      "Processing record 177 | City: luderitz\n",
      "Processing record 178 | City: biak\n",
      "Processing record 179 | City: flinders\n",
      "Processing record 180 | City: provideniya\n",
      "Processing record 181 | City: nizhneyansk\n",
      "Could not find all data for city: nizhneyansk\n",
      "Processing record 182 | City: sardarshahr\n",
      "Processing record 183 | City: koumac\n",
      "Processing record 184 | City: marawi\n",
      "Processing record 185 | City: oktyabrskiy\n",
      "Processing record 186 | City: iraray\n",
      "Processing record 187 | City: nanortalik\n",
      "Processing record 188 | City: beaverlodge\n",
      "Processing record 189 | City: northam\n",
      "Processing record 190 | City: fort saint john\n",
      "Could not find all data for city: fort saint john\n",
      "Processing record 191 | City: jaguarari\n",
      "Processing record 192 | City: santa rosa\n"
     ]
    },
    {
     "name": "stdout",
     "output_type": "stream",
     "text": [
      "Processing record 193 | City: tura\n",
      "Processing record 194 | City: havre-saint-pierre\n",
      "Processing record 195 | City: vila\n",
      "Processing record 196 | City: orlik\n",
      "Processing record 197 | City: dzilam gonzalez\n",
      "Processing record 198 | City: medea\n",
      "Processing record 199 | City: vrangel\n",
      "Processing record 200 | City: puerto colombia\n",
      "Processing record 201 | City: lagos\n",
      "Processing record 202 | City: kodiak\n",
      "Processing record 203 | City: bisira\n",
      "Processing record 204 | City: mehamn\n",
      "Processing record 205 | City: port elizabeth\n",
      "Processing record 206 | City: tsihombe\n",
      "Could not find all data for city: tsihombe\n",
      "Processing record 207 | City: newport beach\n",
      "Processing record 208 | City: kapaa\n",
      "Processing record 209 | City: kavaratti\n",
      "Processing record 210 | City: jamestown\n",
      "Processing record 211 | City: vanavara\n",
      "Processing record 212 | City: college\n",
      "Processing record 213 | City: biaora\n",
      "Processing record 214 | City: duldurga\n",
      "Processing record 215 | City: coahuayana\n",
      "Processing record 216 | City: komsomolskiy\n",
      "Processing record 217 | City: liusha\n",
      "Processing record 218 | City: namatanai\n",
      "Processing record 219 | City: ismailia\n",
      "Processing record 220 | City: jatai\n",
      "Processing record 221 | City: gizo\n",
      "Processing record 222 | City: tumannyy\n",
      "Could not find all data for city: tumannyy\n",
      "Processing record 223 | City: port lincoln\n",
      "Processing record 224 | City: uwajima\n",
      "Processing record 225 | City: anchorage\n",
      "Processing record 226 | City: tambura\n",
      "Processing record 227 | City: oranjemund\n",
      "Processing record 228 | City: dunedin\n",
      "Processing record 229 | City: alta floresta\n",
      "Processing record 230 | City: castro\n",
      "Processing record 231 | City: vostok\n",
      "Processing record 232 | City: oskarshamn\n",
      "Processing record 233 | City: hobyo\n",
      "Processing record 234 | City: marsa matruh\n",
      "Processing record 235 | City: boende\n",
      "Processing record 236 | City: saint-philippe\n",
      "Processing record 237 | City: carutapera\n",
      "Processing record 238 | City: warqla\n",
      "Could not find all data for city: warqla\n",
      "Processing record 239 | City: zeya\n",
      "Processing record 240 | City: codrington\n",
      "Processing record 241 | City: alofi\n",
      "Processing record 242 | City: chapais\n",
      "Processing record 243 | City: bhag\n",
      "Processing record 244 | City: okhotsk\n",
      "Processing record 245 | City: kuche\n",
      "Could not find all data for city: kuche\n",
      "Processing record 246 | City: tambun\n",
      "Processing record 247 | City: yaan\n",
      "Processing record 248 | City: saleaula\n",
      "Could not find all data for city: saleaula\n",
      "Processing record 249 | City: kirando\n",
      "Processing record 250 | City: anito\n",
      "Processing record 251 | City: hihifo\n",
      "Could not find all data for city: hihifo\n",
      "Processing record 252 | City: vaitupu\n",
      "Could not find all data for city: vaitupu\n",
      "Processing record 253 | City: taybad\n",
      "Processing record 254 | City: hofn\n",
      "Processing record 255 | City: yialos\n",
      "Could not find all data for city: yialos\n",
      "Processing record 256 | City: mokhsogollokh\n",
      "Processing record 257 | City: navolato\n",
      "Processing record 258 | City: tual\n",
      "Processing record 259 | City: skagastrond\n",
      "Could not find all data for city: skagastrond\n",
      "Processing record 260 | City: buin\n",
      "Processing record 261 | City: kozhva\n",
      "Processing record 262 | City: panjab\n",
      "Processing record 263 | City: agadir\n",
      "Processing record 264 | City: baghdad\n",
      "Processing record 265 | City: florianopolis\n",
      "Processing record 266 | City: abong mbang\n",
      "Processing record 267 | City: rafaela\n",
      "Processing record 268 | City: esperance\n",
      "Processing record 269 | City: catamarca\n",
      "Processing record 270 | City: caravelas\n",
      "Processing record 271 | City: isangel\n",
      "Processing record 272 | City: fairbanks\n",
      "Processing record 273 | City: bubanza\n",
      "Processing record 274 | City: pacific grove\n",
      "Processing record 275 | City: tammisaari\n",
      "Processing record 276 | City: padang\n",
      "Processing record 277 | City: boca do acre\n",
      "Processing record 278 | City: amapa\n",
      "Processing record 279 | City: natal\n",
      "Processing record 280 | City: mar del plata\n",
      "Processing record 281 | City: comodoro rivadavia\n",
      "Processing record 282 | City: sola\n",
      "Processing record 283 | City: zelenogorskiy\n",
      "Processing record 284 | City: aguimes\n",
      "Processing record 285 | City: bone\n",
      "Processing record 286 | City: leningradskiy\n",
      "Processing record 287 | City: ladario\n",
      "Processing record 288 | City: tvoroyri\n",
      "Processing record 289 | City: asfi\n",
      "Processing record 290 | City: batagay-alyta\n",
      "Processing record 291 | City: mutsamudu\n",
      "Could not find all data for city: mutsamudu\n",
      "Processing record 292 | City: coihaique\n",
      "Processing record 293 | City: avera\n",
      "Processing record 294 | City: cabo san lucas\n",
      "Processing record 295 | City: las vegas\n",
      "Processing record 296 | City: yefimovskiy\n",
      "Could not find all data for city: yefimovskiy\n",
      "Processing record 297 | City: santa rita do sapucai\n",
      "Processing record 298 | City: turayf\n",
      "Processing record 299 | City: narasannapeta\n",
      "Processing record 300 | City: bengkulu\n",
      "Processing record 301 | City: parabel\n",
      "Processing record 302 | City: bethel\n",
      "Processing record 303 | City: srednekolymsk\n",
      "Processing record 304 | City: marzuq\n",
      "Processing record 305 | City: lompoc\n",
      "Processing record 306 | City: lagoa\n",
      "Processing record 307 | City: lagunas\n",
      "Processing record 308 | City: katsuura\n",
      "Processing record 309 | City: saint-leu\n",
      "Processing record 310 | City: tuatapere\n",
      "Processing record 311 | City: hamilton\n",
      "Processing record 312 | City: irtyshskiy\n",
      "Processing record 313 | City: axim\n",
      "Processing record 314 | City: gigmoto\n",
      "Processing record 315 | City: ucluelet\n",
      "Processing record 316 | City: nuevo san juan parangaricutiro\n",
      "Processing record 317 | City: makarov\n",
      "Processing record 318 | City: san vicente\n",
      "Processing record 319 | City: sabaudia\n",
      "Processing record 320 | City: teofilo otoni\n",
      "Processing record 321 | City: yashalta\n",
      "Processing record 322 | City: camacha\n",
      "Processing record 323 | City: nikolayevsk-na-amure\n",
      "Processing record 324 | City: acarau\n",
      "Processing record 325 | City: yar-sale\n",
      "Processing record 326 | City: nakamura\n",
      "Processing record 327 | City: saint-felicien\n",
      "Processing record 328 | City: belushya guba\n",
      "Could not find all data for city: belushya guba\n",
      "Processing record 329 | City: menzelinsk\n",
      "Processing record 330 | City: alice\n",
      "Processing record 331 | City: kitui\n",
      "Processing record 332 | City: ca mau\n",
      "Processing record 333 | City: petropavlovsk-kamchatskiy\n",
      "Processing record 334 | City: kearney\n",
      "Processing record 335 | City: humboldt\n",
      "Processing record 336 | City: oksfjord\n",
      "Processing record 337 | City: naze\n",
      "Processing record 338 | City: ranaghat\n",
      "Processing record 339 | City: kaohsiung\n",
      "Processing record 340 | City: de-kastri\n",
      "Processing record 341 | City: dingle\n",
      "Processing record 342 | City: muravlenko\n",
      "Processing record 343 | City: chokwe\n",
      "Processing record 344 | City: praia da vitoria\n",
      "Processing record 345 | City: charagua\n",
      "Processing record 346 | City: nago\n",
      "Processing record 347 | City: wasilla\n",
      "Processing record 348 | City: maumere\n",
      "Processing record 349 | City: santa cruz de tenerife\n",
      "Processing record 350 | City: talnakh\n",
      "Processing record 351 | City: palabuhanratu\n",
      "Could not find all data for city: palabuhanratu\n",
      "Processing record 352 | City: tiznit\n",
      "Processing record 353 | City: kerman\n",
      "Processing record 354 | City: rocha\n",
      "Processing record 355 | City: riohacha\n",
      "Processing record 356 | City: samarai\n",
      "Processing record 357 | City: vanimo\n",
      "Processing record 358 | City: leh\n",
      "Processing record 359 | City: luena\n",
      "Processing record 360 | City: xiongshi\n",
      "Could not find all data for city: xiongshi\n",
      "Processing record 361 | City: grand centre\n",
      "Could not find all data for city: grand centre\n",
      "Processing record 362 | City: mikumi\n",
      "Processing record 363 | City: presidencia roque saenz pena\n",
      "Processing record 364 | City: ugoofaaru\n",
      "Processing record 365 | City: waingapu\n",
      "Processing record 366 | City: ust-kut\n",
      "Processing record 367 | City: clyde\n",
      "Processing record 368 | City: panguipulli\n",
      "Processing record 369 | City: ilhabela\n",
      "Processing record 370 | City: riyadh\n",
      "Processing record 371 | City: rypefjord\n",
      "Processing record 372 | City: biltine\n",
      "Processing record 373 | City: saint-louis\n",
      "Processing record 374 | City: narrabri\n",
      "Processing record 375 | City: gamboma\n",
      "Processing record 376 | City: saint combs\n",
      "Could not find all data for city: saint combs\n",
      "Processing record 377 | City: along\n",
      "Processing record 378 | City: tomino\n",
      "Processing record 379 | City: maragogi\n",
      "Processing record 380 | City: antofagasta\n",
      "Processing record 381 | City: diamantino\n",
      "Processing record 382 | City: beinamar\n"
     ]
    },
    {
     "name": "stdout",
     "output_type": "stream",
     "text": [
      "Processing record 383 | City: kaina\n",
      "Processing record 384 | City: moose factory\n",
      "Processing record 385 | City: longlac\n",
      "Could not find all data for city: longlac\n",
      "Processing record 386 | City: san cristobal\n",
      "Processing record 387 | City: solnechnyy\n",
      "Processing record 388 | City: bernalillo\n",
      "Processing record 389 | City: saldanha\n",
      "Processing record 390 | City: espoo\n",
      "Processing record 391 | City: bolshaya rechka\n",
      "Processing record 392 | City: oda\n",
      "Processing record 393 | City: pangkalanbuun\n",
      "Processing record 394 | City: byron bay\n",
      "Processing record 395 | City: ciudad bolivar\n",
      "Processing record 396 | City: imbituba\n",
      "Processing record 397 | City: wahiawa\n",
      "Processing record 398 | City: grand gaube\n",
      "Processing record 399 | City: antequera\n",
      "Processing record 400 | City: kanniyakumari\n",
      "Processing record 401 | City: sokoni\n",
      "Processing record 402 | City: poronaysk\n",
      "Processing record 403 | City: conakry\n",
      "Processing record 404 | City: verkhoyansk\n",
      "Processing record 405 | City: touba\n",
      "Processing record 406 | City: port-gentil\n",
      "Processing record 407 | City: quatre cocos\n",
      "Processing record 408 | City: victor harbor\n",
      "Processing record 409 | City: juneau\n",
      "Processing record 410 | City: carballo\n",
      "Processing record 411 | City: sfantu gheorghe\n",
      "Processing record 412 | City: grand river south east\n",
      "Could not find all data for city: grand river south east\n",
      "Processing record 413 | City: tromso\n",
      "Processing record 414 | City: alice springs\n",
      "Processing record 415 | City: shenjiamen\n",
      "Processing record 416 | City: marcona\n",
      "Could not find all data for city: marcona\n",
      "Processing record 417 | City: kemijarvi\n",
      "Processing record 418 | City: port hawkesbury\n",
      "Processing record 419 | City: tucuman\n",
      "Processing record 420 | City: sarangani\n",
      "Processing record 421 | City: bac lieu\n",
      "Processing record 422 | City: xinxiang\n",
      "Processing record 423 | City: the valley\n",
      "Processing record 424 | City: moussoro\n",
      "Processing record 425 | City: arima\n",
      "Processing record 426 | City: ravar\n",
      "Processing record 427 | City: quelimane\n",
      "Processing record 428 | City: awbari\n",
      "Processing record 429 | City: aklavik\n",
      "Processing record 430 | City: hornepayne\n",
      "Processing record 431 | City: diego de almagro\n",
      "Processing record 432 | City: atbasar\n",
      "Processing record 433 | City: iqaluit\n",
      "Processing record 434 | City: port hardy\n",
      "Processing record 435 | City: sal rei\n",
      "Processing record 436 | City: sovetskiy\n",
      "Processing record 437 | City: khakhea\n",
      "Processing record 438 | City: picota\n",
      "Processing record 439 | City: beloha\n",
      "Processing record 440 | City: tabiauea\n",
      "Could not find all data for city: tabiauea\n",
      "Processing record 441 | City: rawson\n",
      "Processing record 442 | City: mahebourg\n",
      "Processing record 443 | City: lephepe\n",
      "Could not find all data for city: lephepe\n",
      "Processing record 444 | City: dao\n",
      "Processing record 445 | City: penzance\n",
      "Processing record 446 | City: tiruvottiyur\n",
      "Could not find all data for city: tiruvottiyur\n",
      "Processing record 447 | City: kavieng\n",
      "Processing record 448 | City: portree\n",
      "Processing record 449 | City: burica\n",
      "Could not find all data for city: burica\n",
      "Processing record 450 | City: kankaanpaa\n",
      "Processing record 451 | City: luxor\n",
      "Processing record 452 | City: broome\n",
      "Processing record 453 | City: yanaul\n",
      "Processing record 454 | City: laguna\n",
      "Processing record 455 | City: shipunovo\n",
      "Processing record 456 | City: samusu\n",
      "Could not find all data for city: samusu\n",
      "Processing record 457 | City: emerald\n",
      "Processing record 458 | City: halalo\n",
      "Could not find all data for city: halalo\n",
      "Processing record 459 | City: togur\n",
      "Processing record 460 | City: kamenskoye\n",
      "Could not find all data for city: kamenskoye\n",
      "Processing record 461 | City: san buenaventura\n",
      "Processing record 462 | City: okha\n",
      "Processing record 463 | City: marsh harbour\n",
      "Processing record 464 | City: ust-tsilma\n",
      "Processing record 465 | City: crab hill\n",
      "Could not find all data for city: crab hill\n",
      "Processing record 466 | City: salalah\n",
      "Processing record 467 | City: moshupa\n",
      "Processing record 468 | City: kailua\n",
      "Processing record 469 | City: deputatskiy\n",
      "Processing record 470 | City: coquimbo\n",
      "Processing record 471 | City: erzin\n",
      "Processing record 472 | City: lusaka\n",
      "Processing record 473 | City: mizdah\n",
      "Processing record 474 | City: polonnaruwa\n",
      "Processing record 475 | City: nageshwari\n",
      "Processing record 476 | City: kaeo\n",
      "Processing record 477 | City: lata\n",
      "Processing record 478 | City: lufilufi\n",
      "Processing record 479 | City: aksehir\n",
      "Processing record 480 | City: kiruna\n",
      "Processing record 481 | City: nyurba\n",
      "Processing record 482 | City: coos bay\n",
      "Processing record 483 | City: torbay\n",
      "Processing record 484 | City: kumluca\n",
      "Processing record 485 | City: plettenberg bay\n",
      "Processing record 486 | City: zhezkazgan\n",
      "Processing record 487 | City: nishihara\n",
      "Processing record 488 | City: vila velha\n",
      "Processing record 489 | City: elliot lake\n",
      "Processing record 490 | City: tiksi\n",
      "Processing record 491 | City: iquitos\n",
      "Processing record 492 | City: taltal\n",
      "Processing record 493 | City: mangaratiba\n",
      "Processing record 494 | City: amparafaravola\n",
      "Processing record 495 | City: sai buri\n",
      "Processing record 496 | City: koumra\n",
      "Processing record 497 | City: cobija\n",
      "Processing record 498 | City: linden\n",
      "Processing record 499 | City: constitucion\n",
      "Processing record 500 | City: iskateley\n",
      "Processing record 501 | City: gravelbourg\n",
      "Processing record 502 | City: sadovoye\n",
      "Processing record 503 | City: aswan\n",
      "Processing record 504 | City: rincon\n",
      "Processing record 505 | City: churapcha\n",
      "Processing record 506 | City: moba\n",
      "Processing record 507 | City: xiaoweizhai\n",
      "Processing record 508 | City: chabahar\n",
      "Processing record 509 | City: port hedland\n",
      "Processing record 510 | City: broken hill\n",
      "Processing record 511 | City: kyabram\n",
      "Processing record 512 | City: inirida\n",
      "Processing record 513 | City: aldan\n",
      "Processing record 514 | City: otradnoye\n",
      "Processing record 515 | City: jijiang\n",
      "Processing record 516 | City: andenes\n",
      "Processing record 517 | City: vilyuysk\n",
      "Processing record 518 | City: opuwo\n",
      "Processing record 519 | City: bubaque\n",
      "Processing record 520 | City: lolua\n",
      "Could not find all data for city: lolua\n",
      "Processing record 521 | City: dukat\n",
      "Processing record 522 | City: loandjili\n",
      "Processing record 523 | City: mitu\n",
      "Processing record 524 | City: dali\n",
      "Processing record 525 | City: muros\n",
      "Processing record 526 | City: svobodnyy\n",
      "Processing record 527 | City: veshenskaya\n",
      "Processing record 528 | City: akyab\n",
      "Processing record 529 | City: fairmont\n",
      "Processing record 530 | City: yumen\n",
      "Processing record 531 | City: oistins\n",
      "Processing record 532 | City: kosmach\n",
      "Processing record 533 | City: grindavik\n",
      "Processing record 534 | City: mazagao\n",
      "Processing record 535 | City: trairi\n",
      "Processing record 536 | City: wanning\n",
      "Processing record 537 | City: coffeyville\n",
      "Processing record 538 | City: lebanon\n",
      "Processing record 539 | City: provost\n",
      "Processing record 540 | City: saint anthony\n",
      "Processing record 541 | City: yangjiang\n",
      "Processing record 542 | City: barinas\n",
      "Processing record 543 | City: desaguadero\n",
      "Processing record 544 | City: chumikan\n",
      "Processing record 545 | City: sur\n",
      "Processing record 546 | City: bereda\n",
      "Processing record 547 | City: tynda\n",
      "Processing record 548 | City: lenger\n",
      "Processing record 549 | City: sao filipe\n",
      "Processing record 550 | City: progreso\n",
      "Processing record 551 | City: pisco\n",
      "Processing record 552 | City: san quintin\n",
      "Processing record 553 | City: mandalgovi\n",
      "Processing record 554 | City: khandbari\n",
      "Processing record 555 | City: gaffney\n",
      "Processing record 556 | City: karmana\n",
      "Could not find all data for city: karmana\n",
      "Processing record 557 | City: gerash\n",
      "Processing record 558 | City: sooke\n",
      "Processing record 559 | City: pitimbu\n",
      "Processing record 560 | City: kabompo\n",
      "Processing record 561 | City: kieta\n",
      "Processing record 562 | City: nemuro\n",
      "Processing record 563 | City: hun\n",
      "Processing record 564 | City: lao cai\n",
      "Processing record 565 | City: colesberg\n",
      "Processing record 566 | City: del rio\n",
      "Processing record 567 | City: boquira\n",
      "Processing record 568 | City: tabou\n",
      "Processing record 569 | City: da nang\n",
      "Processing record 570 | City: marv dasht\n",
      "Could not find all data for city: marv dasht\n",
      "Processing record 571 | City: masvingo\n",
      "Processing record 572 | City: samarinda\n",
      "Processing record 573 | City: nome\n",
      "Processing record 574 | City: troitskoye\n",
      "Processing record 575 | City: albuquerque\n",
      "Processing record 576 | City: san jose\n",
      "Processing record 577 | City: three hills\n"
     ]
    },
    {
     "name": "stdout",
     "output_type": "stream",
     "text": [
      "Processing record 578 | City: wageningen\n",
      "Processing record 579 | City: taoudenni\n",
      "Processing record 580 | City: clyde river\n",
      "Processing record 581 | City: barcelos\n",
      "Processing record 582 | City: exeter\n",
      "Processing record 583 | City: ahipara\n",
      "Processing record 584 | City: karak\n",
      "Processing record 585 | City: fortuna\n",
      "Processing record 586 | City: jhikargachha\n",
      "Could not find all data for city: jhikargachha\n",
      "Processing record 587 | City: miedzyrzecz\n",
      "Processing record 588 | City: itaituba\n",
      "Processing record 589 | City: temaraia\n",
      "Could not find all data for city: temaraia\n",
      "Processing record 590 | City: talaya\n",
      "Processing record 591 | City: kapuskasing\n",
      "Processing record 592 | City: marapanim\n",
      "Processing record 593 | City: buarcos\n",
      "Processing record 594 | City: buta\n",
      "Processing record 595 | City: east liverpool\n",
      "Processing record 596 | City: tidore\n",
      "Could not find all data for city: tidore\n",
      "Processing record 597 | City: changji\n",
      "Processing record 598 | City: jumla\n",
      "Processing record 599 | City: pangai\n",
      "Processing record 600 | City: puerto rico\n",
      "Processing record 601 | City: chase\n",
      "Processing record 602 | City: grand bank\n",
      "Processing record 603 | City: sorland\n",
      "Processing record 604 | City: jiddah\n",
      "Could not find all data for city: jiddah\n",
      "Processing record 605 | City: louisbourg\n",
      "Could not find all data for city: louisbourg\n",
      "Processing record 606 | City: husavik\n",
      "Processing record 607 | City: pavilosta\n",
      "Processing record 608 | City: jiangyou\n",
      "Processing record 609 | City: beringovskiy\n",
      "Processing record 610 | City: kulhudhuffushi\n",
      "Processing record 611 | City: margate\n",
      "Processing record 612 | City: voznesenye\n",
      "Processing record 613 | City: charters towers\n",
      "Processing record 614 | City: utiroa\n",
      "Could not find all data for city: utiroa\n",
      "Processing record 615 | City: kinkala\n",
      "Processing record 616 | City: xuchang\n",
      "Processing record 617 | City: saint-joseph\n",
      "Processing record 618 | City: santa marta\n",
      "Processing record 619 | City: hope\n",
      "Processing record 620 | City: osakarovka\n",
      "Processing record 621 | City: mandurah\n",
      "Processing record 622 | City: sidi ali\n",
      "Processing record 623 | City: ola\n",
      "Processing record 624 | City: ampanihy\n",
      "Processing record 625 | City: verkhnevilyuysk\n",
      "Processing record 626 | City: camacari\n",
      "Processing record 627 | City: bayburt\n",
      "Processing record 628 | City: paris\n",
      "Processing record 629 | City: monterey\n"
     ]
    }
   ],
   "source": [
    "#initialize openweathermap url\n",
    "url = \"http://api.openweathermap.org/data/2.5/weather?\"\n",
    "units = \"imperial\"\n",
    "\n",
    "# Build partial query URL\n",
    "query_url = f\"{url}appid={weather_api_key}&units={units}&q=\"\n",
    "\n",
    "#initiate a counter\n",
    "counter = 0\n",
    "\n",
    "#create lists to store data\n",
    "lat = []\n",
    "lng = []\n",
    "temp = []\n",
    "humid = []\n",
    "cloud = []\n",
    "wind = []\n",
    "cntry = []\n",
    "dt = []\n",
    "city_ls = []\n",
    "\n",
    "print(\"Beginning data retrieval...\")\n",
    "for city in cities:\n",
    "    counter += 1\n",
    "    response = requests.get(query_url + city).json()\n",
    "    print(f\"Processing record {counter} | City: {city}\")\n",
    "    try:\n",
    "        lat.append(response[\"coord\"][\"lat\"])\n",
    "        lng.append(response[\"coord\"][\"lon\"] )\n",
    "        temp.append(response[\"main\"][\"temp_max\"])\n",
    "        humid.append(response[\"main\"][\"humidity\"])\n",
    "        cloud.append(response[\"clouds\"][\"all\"])\n",
    "        wind.append(response[\"wind\"][\"speed\"])\n",
    "        cntry.append(response[\"sys\"][\"country\"])\n",
    "        dt.append(response[\"dt\"])\n",
    "        city_ls.append(city)\n",
    "    except:\n",
    "        print(f\"Could not find all data for city: {city}\")\n",
    "    \n",
    "    time.sleep(1)\n"
   ]
  },
  {
   "cell_type": "markdown",
   "metadata": {},
   "source": [
    "### Save Results\n"
   ]
  },
  {
   "cell_type": "code",
   "execution_count": 18,
   "metadata": {},
   "outputs": [
    {
     "data": {
      "text/html": [
       "<div>\n",
       "<style scoped>\n",
       "    .dataframe tbody tr th:only-of-type {\n",
       "        vertical-align: middle;\n",
       "    }\n",
       "\n",
       "    .dataframe tbody tr th {\n",
       "        vertical-align: top;\n",
       "    }\n",
       "\n",
       "    .dataframe thead th {\n",
       "        text-align: right;\n",
       "    }\n",
       "</style>\n",
       "<table border=\"1\" class=\"dataframe\">\n",
       "  <thead>\n",
       "    <tr style=\"text-align: right;\">\n",
       "      <th></th>\n",
       "      <th>City</th>\n",
       "      <th>Lat</th>\n",
       "      <th>Lng</th>\n",
       "      <th>Max Temp</th>\n",
       "      <th>Humidity</th>\n",
       "      <th>Cloudiness</th>\n",
       "      <th>Wind Speed</th>\n",
       "      <th>Country</th>\n",
       "      <th>Date</th>\n",
       "    </tr>\n",
       "  </thead>\n",
       "  <tbody>\n",
       "    <tr>\n",
       "      <th>0</th>\n",
       "      <td>saskylakh</td>\n",
       "      <td>71.9167</td>\n",
       "      <td>114.0833</td>\n",
       "      <td>-22.32</td>\n",
       "      <td>84</td>\n",
       "      <td>0</td>\n",
       "      <td>6.64</td>\n",
       "      <td>RU</td>\n",
       "      <td>1613012657</td>\n",
       "    </tr>\n",
       "    <tr>\n",
       "      <th>1</th>\n",
       "      <td>lucapa</td>\n",
       "      <td>-8.4192</td>\n",
       "      <td>20.7447</td>\n",
       "      <td>64.81</td>\n",
       "      <td>96</td>\n",
       "      <td>100</td>\n",
       "      <td>2.68</td>\n",
       "      <td>AO</td>\n",
       "      <td>1613012651</td>\n",
       "    </tr>\n",
       "    <tr>\n",
       "      <th>2</th>\n",
       "      <td>palmer</td>\n",
       "      <td>42.1584</td>\n",
       "      <td>-72.3287</td>\n",
       "      <td>16.00</td>\n",
       "      <td>73</td>\n",
       "      <td>90</td>\n",
       "      <td>1.83</td>\n",
       "      <td>US</td>\n",
       "      <td>1613012060</td>\n",
       "    </tr>\n",
       "    <tr>\n",
       "      <th>3</th>\n",
       "      <td>vardo</td>\n",
       "      <td>70.3705</td>\n",
       "      <td>31.1107</td>\n",
       "      <td>24.33</td>\n",
       "      <td>86</td>\n",
       "      <td>100</td>\n",
       "      <td>13.35</td>\n",
       "      <td>NO</td>\n",
       "      <td>1613012760</td>\n",
       "    </tr>\n",
       "    <tr>\n",
       "      <th>4</th>\n",
       "      <td>puerto ayora</td>\n",
       "      <td>-0.7393</td>\n",
       "      <td>-90.3518</td>\n",
       "      <td>75.00</td>\n",
       "      <td>99</td>\n",
       "      <td>79</td>\n",
       "      <td>1.01</td>\n",
       "      <td>EC</td>\n",
       "      <td>1613012762</td>\n",
       "    </tr>\n",
       "  </tbody>\n",
       "</table>\n",
       "</div>"
      ],
      "text/plain": [
       "           City      Lat       Lng  Max Temp  Humidity  Cloudiness  \\\n",
       "0     saskylakh  71.9167  114.0833    -22.32        84           0   \n",
       "1        lucapa  -8.4192   20.7447     64.81        96         100   \n",
       "2        palmer  42.1584  -72.3287     16.00        73          90   \n",
       "3         vardo  70.3705   31.1107     24.33        86         100   \n",
       "4  puerto ayora  -0.7393  -90.3518     75.00        99          79   \n",
       "\n",
       "   Wind Speed Country        Date  \n",
       "0        6.64      RU  1613012657  \n",
       "1        2.68      AO  1613012651  \n",
       "2        1.83      US  1613012060  \n",
       "3       13.35      NO  1613012760  \n",
       "4        1.01      EC  1613012762  "
      ]
     },
     "execution_count": 18,
     "metadata": {},
     "output_type": "execute_result"
    }
   ],
   "source": [
    "# create a data frame from cities, lat, and temp\n",
    "weather_dict = {\n",
    "    \"City\": city_ls,\n",
    "    \"Lat\": lat,\n",
    "    \"Lng\": lng,\n",
    "    \"Max Temp\": temp,\n",
    "    \"Humidity\": humid,\n",
    "    \"Cloudiness\": cloud,\n",
    "    \"Wind Speed\": wind,\n",
    "    \"Country\": cntry,\n",
    "    \"Date\": dt\n",
    "}\n",
    "weather_data = pd.DataFrame(weather_dict)\n",
    "weather_data.head()"
   ]
  },
  {
   "cell_type": "code",
   "execution_count": 19,
   "metadata": {},
   "outputs": [
    {
     "name": "stdout",
     "output_type": "stream",
     "text": [
      "Weather data saved to: ../output_data/cities.csv\n"
     ]
    }
   ],
   "source": [
    "#save weather data to csv output file\n",
    "try:\n",
    "    weather_data.to_csv(output_data_file, index=False)\n",
    "    print(f\"Weather data saved to: {output_data_file}\")\n",
    "except:\n",
    "    print(f\"City weather data not saved.\")"
   ]
  },
  {
   "cell_type": "markdown",
   "metadata": {},
   "source": [
    "# Inspect the data and remove the cities where the humidity > 100%."
   ]
  },
  {
   "cell_type": "code",
   "execution_count": 20,
   "metadata": {},
   "outputs": [
    {
     "name": "stdout",
     "output_type": "stream",
     "text": [
      "There were no records with humidity above 100%.\n"
     ]
    },
    {
     "data": {
      "text/html": [
       "<div>\n",
       "<style scoped>\n",
       "    .dataframe tbody tr th:only-of-type {\n",
       "        vertical-align: middle;\n",
       "    }\n",
       "\n",
       "    .dataframe tbody tr th {\n",
       "        vertical-align: top;\n",
       "    }\n",
       "\n",
       "    .dataframe thead th {\n",
       "        text-align: right;\n",
       "    }\n",
       "</style>\n",
       "<table border=\"1\" class=\"dataframe\">\n",
       "  <thead>\n",
       "    <tr style=\"text-align: right;\">\n",
       "      <th></th>\n",
       "      <th>City</th>\n",
       "      <th>Lat</th>\n",
       "      <th>Lng</th>\n",
       "      <th>Max Temp</th>\n",
       "      <th>Humidity</th>\n",
       "      <th>Cloudiness</th>\n",
       "      <th>Wind Speed</th>\n",
       "      <th>Country</th>\n",
       "      <th>Date</th>\n",
       "    </tr>\n",
       "  </thead>\n",
       "  <tbody>\n",
       "    <tr>\n",
       "      <th>0</th>\n",
       "      <td>saskylakh</td>\n",
       "      <td>71.9167</td>\n",
       "      <td>114.0833</td>\n",
       "      <td>-22.32</td>\n",
       "      <td>84</td>\n",
       "      <td>0</td>\n",
       "      <td>6.64</td>\n",
       "      <td>RU</td>\n",
       "      <td>1613012657</td>\n",
       "    </tr>\n",
       "    <tr>\n",
       "      <th>1</th>\n",
       "      <td>lucapa</td>\n",
       "      <td>-8.4192</td>\n",
       "      <td>20.7447</td>\n",
       "      <td>64.81</td>\n",
       "      <td>96</td>\n",
       "      <td>100</td>\n",
       "      <td>2.68</td>\n",
       "      <td>AO</td>\n",
       "      <td>1613012651</td>\n",
       "    </tr>\n",
       "    <tr>\n",
       "      <th>2</th>\n",
       "      <td>palmer</td>\n",
       "      <td>42.1584</td>\n",
       "      <td>-72.3287</td>\n",
       "      <td>16.00</td>\n",
       "      <td>73</td>\n",
       "      <td>90</td>\n",
       "      <td>1.83</td>\n",
       "      <td>US</td>\n",
       "      <td>1613012060</td>\n",
       "    </tr>\n",
       "    <tr>\n",
       "      <th>3</th>\n",
       "      <td>vardo</td>\n",
       "      <td>70.3705</td>\n",
       "      <td>31.1107</td>\n",
       "      <td>24.33</td>\n",
       "      <td>86</td>\n",
       "      <td>100</td>\n",
       "      <td>13.35</td>\n",
       "      <td>NO</td>\n",
       "      <td>1613012760</td>\n",
       "    </tr>\n",
       "    <tr>\n",
       "      <th>4</th>\n",
       "      <td>puerto ayora</td>\n",
       "      <td>-0.7393</td>\n",
       "      <td>-90.3518</td>\n",
       "      <td>75.00</td>\n",
       "      <td>99</td>\n",
       "      <td>79</td>\n",
       "      <td>1.01</td>\n",
       "      <td>EC</td>\n",
       "      <td>1613012762</td>\n",
       "    </tr>\n",
       "  </tbody>\n",
       "</table>\n",
       "</div>"
      ],
      "text/plain": [
       "           City      Lat       Lng  Max Temp  Humidity  Cloudiness  \\\n",
       "0     saskylakh  71.9167  114.0833    -22.32        84           0   \n",
       "1        lucapa  -8.4192   20.7447     64.81        96         100   \n",
       "2        palmer  42.1584  -72.3287     16.00        73          90   \n",
       "3         vardo  70.3705   31.1107     24.33        86         100   \n",
       "4  puerto ayora  -0.7393  -90.3518     75.00        99          79   \n",
       "\n",
       "   Wind Speed Country        Date  \n",
       "0        6.64      RU  1613012657  \n",
       "1        2.68      AO  1613012651  \n",
       "2        1.83      US  1613012060  \n",
       "3       13.35      NO  1613012760  \n",
       "4        1.01      EC  1613012762  "
      ]
     },
     "execution_count": 20,
     "metadata": {},
     "output_type": "execute_result"
    }
   ],
   "source": [
    "#set csv file\n",
    "weather_csv = \"../output_data/cities.csv\"\n",
    "\n",
    "#read csv into dataframe\n",
    "weather_df = pd.read_csv(weather_csv)\n",
    "\n",
    "#determine original row count\n",
    "orig_len = len(weather_df)\n",
    "\n",
    "#drop dataframe rows where the humidity is above 100\n",
    "indexes_to_drop = weather_df.loc[weather_df[\"Humidity\"]>100, :].index\n",
    "\n",
    "#drop any rows within current dataframe where humidity above 100%\n",
    "weather_df.drop(indexes_to_drop, inplace=True)\n",
    "\n",
    "#determine new row count\n",
    "dropped_index_len = len(weather_df)\n",
    "\n",
    "#determine if rows were dropped due to over 100 humidity\n",
    "if orig_len == dropped_index_len:\n",
    "    print(f\"There were no records with humidity above 100%.\")\n",
    "    \n",
    "else:\n",
    "    dropped_row_count = orig_len - dropped_index_len\n",
    "    print(f\"There were {dropped_row_count} rows dropped. The new row count is {dropped_index_len}.\")\n",
    "    \n",
    "weather_df.head()"
   ]
  },
  {
   "cell_type": "markdown",
   "metadata": {},
   "source": [
    "# Latitude Analyses"
   ]
  },
  {
   "cell_type": "markdown",
   "metadata": {},
   "source": [
    "## Temperature vs. Latitude Plot"
   ]
  },
  {
   "cell_type": "code",
   "execution_count": 21,
   "metadata": {},
   "outputs": [
    {
     "data": {
      "image/png": "[encoded data removed]",
      "text/plain": [
       "<Figure size 432x288 with 1 Axes>"
      ]
     },
     "metadata": {
      "needs_background": "light"
     },
     "output_type": "display_data"
    },
    {
     "name": "stdout",
     "output_type": "stream",
     "text": [
      "This plot shows that there may be a relationship \n",
      "between temperature and proximity to the equator. \n",
      "The closer to the equator a city is, the higher it's maximum temperature is.\n"
     ]
    }
   ],
   "source": [
    "lat_axis = weather_df[\"Lat\"]\n",
    "temp_axis = weather_df[\"Max Temp\"]\n",
    "today = date.today().strftime(\"%m/%d/%y\")\n",
    "\n",
    "plt.scatter(lat_axis, temp_axis, edgecolors=\"black\")\n",
    "plt.ylabel(\"Max Temperature (\\N{DEGREE SIGN}F)\")\n",
    "plt.xlabel(\"Latitude\")\n",
    "plt.title(f\"Max Temperature vs. City Latitude ({today})\")\n",
    "plt.grid()\n",
    "plt.tight_layout()\n",
    "\n",
    "plt.savefig(\"../output_data/Temp_vs_Lat.png\")\n",
    "\n",
    "plt.show()\n",
    "\n",
    "print(f\"This plot shows that there may be a relationship \\n\\\n",
    "between temperature and proximity to the equator. \\n\\\n",
    "The closer to the equator a city is, the higher it's maximum temperature is.\")"
   ]
  },
  {
   "cell_type": "markdown",
   "metadata": {},
   "source": [
    "## Humidity vs. Latitude Plot"
   ]
  },
  {
   "cell_type": "code",
   "execution_count": 22,
   "metadata": {},
   "outputs": [
    {
     "data": {
      "image/png": "[encoded data removed]",
      "text/plain": [
       "<Figure size 432x288 with 1 Axes>"
      ]
     },
     "metadata": {
      "needs_background": "light"
     },
     "output_type": "display_data"
    },
    {
     "name": "stdout",
     "output_type": "stream",
     "text": [
      "This plot shows humidity in relation to \n",
      "proximity to the equator. However, this plot does not seem\n",
      "to indicate a change in humidity based on proximity to the equator.\n"
     ]
    }
   ],
   "source": [
    "lat_axis = weather_df[\"Lat\"]\n",
    "humid_axis = weather_df[\"Humidity\"]\n",
    "today = date.today().strftime(\"%m/%d/%y\")\n",
    "\n",
    "plt.scatter(lat_axis, humid_axis, edgecolors=\"black\")\n",
    "plt.ylabel(\"Humidity (%)\")\n",
    "plt.xlabel(\"Latitude\")\n",
    "plt.title(f\"Humidity vs. City Latitude ({today})\")\n",
    "plt.grid()\n",
    "plt.tight_layout()\n",
    "\n",
    "plt.savefig(\"../output_data/Humidity_vs_Lat.png\")\n",
    "\n",
    "plt.show()\n",
    "\n",
    "print(f\"This plot shows humidity in relation to \\n\\\n",
    "proximity to the equator. However, this plot does not seem\\n\\\n",
    "to indicate a change in humidity based on proximity to the equator.\")"
   ]
  },
  {
   "cell_type": "markdown",
   "metadata": {},
   "source": [
    "## Cloudiness vs. Latitude Plot"
   ]
  },
  {
   "cell_type": "code",
   "execution_count": 23,
   "metadata": {},
   "outputs": [
    {
     "data": {
      "image/png": "[encoded data removed]",
      "text/plain": [
       "<Figure size 432x288 with 1 Axes>"
      ]
     },
     "metadata": {
      "needs_background": "light"
     },
     "output_type": "display_data"
    },
    {
     "name": "stdout",
     "output_type": "stream",
     "text": [
      "This plot shows cloudiness in relation to \n",
      "proximity to the equator. However, this plot does not seem\n",
      "to indicate a change in cloudiness based on proximity to the equator.\n"
     ]
    }
   ],
   "source": [
    "lat_axis = weather_df[\"Lat\"]\n",
    "cloud_axis = weather_df[\"Cloudiness\"]\n",
    "today = date.today().strftime(\"%m/%d/%y\")\n",
    "\n",
    "plt.scatter(lat_axis, cloud_axis, edgecolors=\"black\")\n",
    "plt.ylabel(\"Cloudiness (%)\")\n",
    "plt.xlabel(\"Latitude\")\n",
    "plt.title(f\"Cloudiness vs. City Latitude ({today})\")\n",
    "plt.grid()\n",
    "plt.tight_layout()\n",
    "\n",
    "plt.savefig(\"../output_data/Cloudiness_vs_Lat.png\")\n",
    "\n",
    "plt.show()\n",
    "\n",
    "print(f\"This plot shows cloudiness in relation to \\n\\\n",
    "proximity to the equator. However, this plot does not seem\\n\\\n",
    "to indicate a change in cloudiness based on proximity to the equator.\")"
   ]
  },
  {
   "cell_type": "markdown",
   "metadata": {},
   "source": [
    "## Wind Speed vs. Latitude Plot"
   ]
  },
  {
   "cell_type": "code",
   "execution_count": 24,
   "metadata": {},
   "outputs": [
    {
     "data": {
      "image/png": "[encoded data removed]",
      "text/plain": [
       "<Figure size 432x288 with 1 Axes>"
      ]
     },
     "metadata": {
      "needs_background": "light"
     },
     "output_type": "display_data"
    },
    {
     "name": "stdout",
     "output_type": "stream",
     "text": [
      "This plot shows wind speed in relation to \n",
      "proximity to the equator. However, this plot does not seem\n",
      "to indicate a change in wind speed based on proximity to the equator.\n"
     ]
    }
   ],
   "source": [
    "lat_axis = weather_df[\"Lat\"]\n",
    "wind_axis = weather_df[\"Wind Speed\"]\n",
    "today = date.today().strftime(\"%m/%d/%y\")\n",
    "\n",
    "plt.scatter(lat_axis, wind_axis, edgecolors=\"black\")\n",
    "plt.ylabel(\"Wind Speed (mph)\")\n",
    "plt.xlabel(\"Latitude\")\n",
    "plt.title(f\"Wind Speed vs City Latitude ({today})\")\n",
    "plt.grid()\n",
    "plt.tight_layout()\n",
    "\n",
    "plt.savefig(\"../output_data/Wind_vs_Lat.png\")\n",
    "\n",
    "plt.show()\n",
    "\n",
    "print(f\"This plot shows wind speed in relation to \\n\\\n",
    "proximity to the equator. However, this plot does not seem\\n\\\n",
    "to indicate a change in wind speed based on proximity to the equator.\")"
   ]
  },
  {
   "cell_type": "markdown",
   "metadata": {},
   "source": [
    "## Linear Regression\n",
    "The following models use these r-value descriptors:\n",
    " - 0.00-0.19: very weak\n",
    " - 0.20-0.39: weak\n",
    " - 0.40-0.59: moderate \n",
    " - 0.60-0.79: strong\n",
    " - 0.80-1.00: very strong"
   ]
  },
  {
   "cell_type": "code",
   "execution_count": 25,
   "metadata": {},
   "outputs": [],
   "source": [
    "#Split weather data into northern souther hemispheres\n",
    "north_weather_df = weather_df.loc[weather_df[\"Lat\"]>=0, :]\n",
    "south_weather_df = weather_df.loc[weather_df[\"Lat\"]<0, :]\n"
   ]
  },
  {
   "cell_type": "markdown",
   "metadata": {},
   "source": [
    "####  Northern Hemisphere - Max Temp vs. Latitude Linear Regression"
   ]
  },
  {
   "cell_type": "code",
   "execution_count": 36,
   "metadata": {},
   "outputs": [
    {
     "name": "stdout",
     "output_type": "stream",
     "text": [
      "The r-value is -0.8786303325794395\n"
     ]
    },
    {
     "data": {
      "image/png": "[encoded data removed]",
      "text/plain": [
       "<Figure size 432x288 with 1 Axes>"
      ]
     },
     "metadata": {
      "needs_background": "light"
     },
     "output_type": "display_data"
    },
    {
     "name": "stdout",
     "output_type": "stream",
     "text": [
      "This model shows the relationship between temperature\n",
      "and proximity to the equator for cities in the Northern Hemisphere.\n",
      "This shows a very strong relationship, such that, as a city gets further\n",
      "from the equator, it's maximum temperature decreases.\n"
     ]
    }
   ],
   "source": [
    "lat_axis = north_weather_df[\"Lat\"]\n",
    "temp_axis = north_weather_df[\"Max Temp\"]\n",
    "\n",
    "plt.scatter(lat_axis, temp_axis)\n",
    "plt.ylabel(\"Max Temp\")\n",
    "plt.xlabel(\"Latitude\")\n",
    "\n",
    "#linear regression data points\n",
    "(slope, intercept, rvalue, pvalue, stderr) = linregress(lat_axis, temp_axis)\n",
    "\n",
    "#y=mx+b\n",
    "regress_values = lat_axis * slope + intercept\n",
    "line_eq = f\"y = {slope:.2f}x + {intercept:.2f}\"\n",
    "\n",
    "plt.plot(lat_axis,regress_values,\"r-\")\n",
    "plt.annotate(line_eq,(0,-35),fontsize=15,color=\"red\")\n",
    "\n",
    "print(f\"The r-value is {rvalue}\")\n",
    "\n",
    "plt.tight_layout()\n",
    "\n",
    "plt.savefig(\"../output_data/NorthHem_MaxTemp_vs_Lat_LinRegress.png\")\n",
    "\n",
    "plt.show()\n",
    "\n",
    "print(f\"This model shows the relationship between temperature\\n\\\n",
    "and proximity to the equator for cities in the Northern Hemisphere.\\n\\\n",
    "This shows a very strong relationship, such that, as a city gets further\\n\\\n",
    "from the equator, it's maximum temperature decreases.\")"
   ]
  },
  {
   "cell_type": "markdown",
   "metadata": {},
   "source": [
    "####  Southern Hemisphere - Max Temp vs. Latitude Linear Regression"
   ]
  },
  {
   "cell_type": "code",
   "execution_count": 37,
   "metadata": {},
   "outputs": [
    {
     "name": "stdout",
     "output_type": "stream",
     "text": [
      "The r-value is 0.40969462709927046\n"
     ]
    },
    {
     "data": {
      "image/png": "[encoded data removed]",
      "text/plain": [
       "<Figure size 432x288 with 1 Axes>"
      ]
     },
     "metadata": {
      "needs_background": "light"
     },
     "output_type": "display_data"
    },
    {
     "name": "stdout",
     "output_type": "stream",
     "text": [
      "This model shows the relationship between temperature\n",
      "and proximity to the equator for cities in the Southern Hemisphere.\n",
      "This shows a moderate relationship, such that, as a city gets closer\n",
      "to the equator, it's maximum temperature may increase.\n"
     ]
    }
   ],
   "source": [
    "lat_axis = south_weather_df[\"Lat\"]\n",
    "temp_axis = south_weather_df[\"Max Temp\"]\n",
    "\n",
    "plt.scatter(lat_axis, temp_axis)\n",
    "plt.ylabel(\"Max Temp\")\n",
    "plt.xlabel(\"Latitude\")\n",
    "\n",
    "#linear regression data points\n",
    "(slope, intercept, rvalue, pvalue, stderr) = linregress(lat_axis, temp_axis)\n",
    "\n",
    "#y=mx+b\n",
    "regress_values = lat_axis * slope + intercept\n",
    "line_eq = f\"y = {slope:.2f}x + {intercept:.2f}\"\n",
    "\n",
    "plt.plot(lat_axis,regress_values,\"r-\")\n",
    "plt.annotate(line_eq,(-55, 90),fontsize=15,color=\"red\")\n",
    "\n",
    "print(f\"The r-value is {rvalue}\")\n",
    "\n",
    "plt.tight_layout()\n",
    "\n",
    "plt.savefig(\"../output_data/SouthHem_MaxTemp_vs_Lat_LinRegress.png\")\n",
    "\n",
    "plt.show()\n",
    "\n",
    "print(f\"This model shows the relationship between temperature\\n\\\n",
    "and proximity to the equator for cities in the Southern Hemisphere.\\n\\\n",
    "This shows a moderate relationship, such that, as a city gets closer\\n\\\n",
    "to the equator, it's maximum temperature may increase.\")"
   ]
  },
  {
   "cell_type": "markdown",
   "metadata": {},
   "source": [
    "####  Northern Hemisphere - Humidity (%) vs. Latitude Linear Regression"
   ]
  },
  {
   "cell_type": "code",
   "execution_count": 38,
   "metadata": {},
   "outputs": [
    {
     "name": "stdout",
     "output_type": "stream",
     "text": [
      "The r-value is 0.35666147640107726\n"
     ]
    },
    {
     "data": {
      "image/png": "[encoded data removed]",
      "text/plain": [
       "<Figure size 432x288 with 1 Axes>"
      ]
     },
     "metadata": {
      "needs_background": "light"
     },
     "output_type": "display_data"
    },
    {
     "name": "stdout",
     "output_type": "stream",
     "text": [
      "This model shows the relationship between humidity\n",
      "and proximity to the equator for cities in the Northern Hemisphere.\n",
      "This shows a weak relationship, such that, as a city gets further\n",
      "from the equator, it's humidity may increase.\n"
     ]
    }
   ],
   "source": [
    "lat_axis = north_weather_df[\"Lat\"]\n",
    "humid_axis = north_weather_df[\"Humidity\"]\n",
    "\n",
    "plt.scatter(lat_axis, humid_axis)\n",
    "plt.ylabel(\"Humidity\")\n",
    "plt.xlabel(\"Latitude\")\n",
    "\n",
    "#linear regression data points\n",
    "(slope, intercept, rvalue, pvalue, stderr) = linregress(lat_axis, humid_axis)\n",
    "\n",
    "#y=mx+b\n",
    "regress_values = lat_axis * slope + intercept\n",
    "line_eq = f\"y = {slope:.2f}x + {intercept:.2f}\"\n",
    "\n",
    "plt.plot(lat_axis,regress_values,\"r-\")\n",
    "plt.annotate(line_eq,(40,40),fontsize=15,color=\"red\")\n",
    "\n",
    "print(f\"The r-value is {rvalue}\")\n",
    "\n",
    "plt.tight_layout()\n",
    "\n",
    "plt.savefig(\"../output_data/NorthHem_Humidity_vs_Lat_LinRegress.png\")\n",
    "\n",
    "plt.show()\n",
    "\n",
    "print(f\"This model shows the relationship between humidity\\n\\\n",
    "and proximity to the equator for cities in the Northern Hemisphere.\\n\\\n",
    "This shows a weak relationship, such that, as a city gets further\\n\\\n",
    "from the equator, it's humidity may increase.\")"
   ]
  },
  {
   "cell_type": "markdown",
   "metadata": {},
   "source": [
    "####  Southern Hemisphere - Humidity (%) vs. Latitude Linear Regression"
   ]
  },
  {
   "cell_type": "code",
   "execution_count": 39,
   "metadata": {},
   "outputs": [
    {
     "name": "stdout",
     "output_type": "stream",
     "text": [
      "The r-value is 0.25173823540254087\n"
     ]
    },
    {
     "data": {
      "image/png": "[encoded data removed]",
      "text/plain": [
       "<Figure size 432x288 with 1 Axes>"
      ]
     },
     "metadata": {
      "needs_background": "light"
     },
     "output_type": "display_data"
    },
    {
     "name": "stdout",
     "output_type": "stream",
     "text": [
      "This model shows the relationship between humidity\n",
      "and proximity to the equator for cities in the Northern Hemisphere.\n",
      "This shows a weak relationship, such that, as a city gets closer\n",
      "to the equator, it's humidity may increase.\n"
     ]
    }
   ],
   "source": [
    "lat_axis = south_weather_df[\"Lat\"]\n",
    "humid_axis = south_weather_df[\"Humidity\"]\n",
    "\n",
    "plt.scatter(lat_axis, humid_axis)\n",
    "plt.ylabel(\"Humidity\")\n",
    "plt.xlabel(\"Latitude\")\n",
    "\n",
    "#linear regression data points\n",
    "(slope, intercept, rvalue, pvalue, stderr) = linregress(lat_axis, humid_axis)\n",
    "\n",
    "#y=mx+b\n",
    "regress_values = lat_axis * slope + intercept\n",
    "line_eq = f\"y = {slope:.2f}x + {intercept:.2f}\"\n",
    "\n",
    "plt.plot(lat_axis,regress_values,\"r-\")\n",
    "plt.annotate(line_eq,(-40,30),fontsize=15,color=\"red\")\n",
    "\n",
    "print(f\"The r-value is {rvalue}\")\n",
    "\n",
    "plt.tight_layout()\n",
    "\n",
    "plt.savefig(\"../output_data/SouthHem_Humidity_vs_Lat_LinRegress.png\")\n",
    "\n",
    "plt.show()\n",
    "\n",
    "print(f\"This model shows the relationship between humidity\\n\\\n",
    "and proximity to the equator for cities in the Northern Hemisphere.\\n\\\n",
    "This shows a weak relationship, such that, as a city gets closer\\n\\\n",
    "to the equator, it's humidity may increase.\")"
   ]
  },
  {
   "cell_type": "markdown",
   "metadata": {},
   "source": [
    "####  Northern Hemisphere - Cloudiness (%) vs. Latitude Linear Regression"
   ]
  },
  {
   "cell_type": "code",
   "execution_count": 40,
   "metadata": {},
   "outputs": [
    {
     "name": "stdout",
     "output_type": "stream",
     "text": [
      "The r-value is 0.2000146595454007\n"
     ]
    },
    {
     "data": {
      "image/png": "[encoded data removed]",
      "text/plain": [
       "<Figure size 432x288 with 1 Axes>"
      ]
     },
     "metadata": {
      "needs_background": "light"
     },
     "output_type": "display_data"
    },
    {
     "name": "stdout",
     "output_type": "stream",
     "text": [
      "This model shows the relationship between cloudiness\n",
      "and proximity to the equator for cities in the Northern Hemisphere.\n",
      "This shows a weak relationship, such that, as a city gets further\n",
      "from the equator, it's cloudiness may increase.\n"
     ]
    }
   ],
   "source": [
    "n_lat_axis = north_weather_df[\"Lat\"]\n",
    "n_cloud_axis = north_weather_df[\"Cloudiness\"]\n",
    "\n",
    "plt.scatter(n_lat_axis, n_cloud_axis)\n",
    "plt.ylabel(\"Cloudiness\")\n",
    "plt.xlabel(\"Latitude\")\n",
    "\n",
    "#linear regression data points\n",
    "(slope, intercept, rvalue, pvalue, stderr) = linregress(n_lat_axis, n_cloud_axis)\n",
    "\n",
    "#y=mx+b\n",
    "regress_values = n_lat_axis * slope + intercept\n",
    "line_eq = f\"y = {slope:.2f}x + {intercept:.2f}\"\n",
    "\n",
    "plt.plot(n_lat_axis,regress_values,\"r-\")\n",
    "plt.annotate(line_eq,(40,30),fontsize=15,color=\"red\")\n",
    "\n",
    "print(f\"The r-value is {rvalue}\")\n",
    "\n",
    "plt.tight_layout()\n",
    "\n",
    "plt.savefig(\"../output_data/NorthHem_Cloudiness_vs_Lat_LinRegress.png\")\n",
    "\n",
    "plt.show()\n",
    "\n",
    "print(f\"This model shows the relationship between cloudiness\\n\\\n",
    "and proximity to the equator for cities in the Northern Hemisphere.\\n\\\n",
    "This shows a weak relationship, such that, as a city gets further\\n\\\n",
    "from the equator, it's cloudiness may increase.\")"
   ]
  },
  {
   "cell_type": "markdown",
   "metadata": {},
   "source": [
    "####  Southern Hemisphere - Cloudiness (%) vs. Latitude Linear Regression"
   ]
  },
  {
   "cell_type": "code",
   "execution_count": 41,
   "metadata": {},
   "outputs": [
    {
     "name": "stdout",
     "output_type": "stream",
     "text": [
      "The r-value is 0.31859034099894257\n"
     ]
    },
    {
     "data": {
      "image/png": "[encoded data removed]",
      "text/plain": [
       "<Figure size 432x288 with 1 Axes>"
      ]
     },
     "metadata": {
      "needs_background": "light"
     },
     "output_type": "display_data"
    },
    {
     "name": "stdout",
     "output_type": "stream",
     "text": [
      "This model shows the relationship between cloudiness\n",
      "and proximity to the equator for cities in the Southern Hemisphere.\n",
      "This shows a weak relationship, such that, as a city gets closer\n",
      "to the equator, it may be cloudier.\n"
     ]
    }
   ],
   "source": [
    "s_lat_axis = south_weather_df[\"Lat\"]\n",
    "s_cloud_axis = south_weather_df[\"Cloudiness\"]\n",
    "\n",
    "plt.scatter(s_lat_axis, s_cloud_axis)\n",
    "plt.ylabel(\"Cloudiness\")\n",
    "plt.xlabel(\"Latitude\")\n",
    "\n",
    "#linear regression data points\n",
    "(slope, intercept, rvalue, pvalue, stderr) = linregress(s_lat_axis, s_cloud_axis)\n",
    "\n",
    "#y=mx+b\n",
    "regress_values = s_lat_axis * slope + intercept\n",
    "line_eq = f\"y = {slope:.2f}x + {intercept:.2f}\"\n",
    "\n",
    "plt.plot(s_lat_axis,regress_values,\"r-\")\n",
    "plt.annotate(line_eq,(-55,50),fontsize=15,color=\"red\")\n",
    "\n",
    "print(f\"The r-value is {rvalue}\")\n",
    "\n",
    "plt.tight_layout()\n",
    "\n",
    "plt.savefig(\"../output_data/SouthHem_Cloudiness_vs_Lat_LinRegress.png\")\n",
    "\n",
    "plt.show()\n",
    "\n",
    "print(f\"This model shows the relationship between cloudiness\\n\\\n",
    "and proximity to the equator for cities in the Southern Hemisphere.\\n\\\n",
    "This shows a weak relationship, such that, as a city gets closer\\n\\\n",
    "to the equator, it may be cloudier.\")"
   ]
  },
  {
   "cell_type": "markdown",
   "metadata": {},
   "source": [
    "####  Northern Hemisphere - Wind Speed (mph) vs. Latitude Linear Regression"
   ]
  },
  {
   "cell_type": "code",
   "execution_count": 42,
   "metadata": {},
   "outputs": [
    {
     "name": "stdout",
     "output_type": "stream",
     "text": [
      "The r-value is 0.058422280666155485\n"
     ]
    },
    {
     "data": {
      "image/png": "[encoded data removed]",
      "text/plain": [
       "<Figure size 432x288 with 1 Axes>"
      ]
     },
     "metadata": {
      "needs_background": "light"
     },
     "output_type": "display_data"
    },
    {
     "name": "stdout",
     "output_type": "stream",
     "text": [
      "This model shows the relationship between wind speed\n",
      "and proximity to the equator for cities in the Northern Hemisphere.\n",
      "This shows a very weak relationship, such that, as a city gets further\n",
      "from the equator, there is no indication how windy it will be.\n"
     ]
    }
   ],
   "source": [
    "n_lat_axis = north_weather_df[\"Lat\"]\n",
    "n_wind_axis = north_weather_df[\"Wind Speed\"]\n",
    "\n",
    "plt.scatter(n_lat_axis, n_wind_axis)\n",
    "plt.ylabel(\"Wind Speed\")\n",
    "plt.xlabel(\"Latitude\")\n",
    "\n",
    "#linear regression data points\n",
    "(slope, intercept, rvalue, pvalue, stderr) = linregress(n_lat_axis, n_wind_axis)\n",
    "\n",
    "#y=mx+b\n",
    "regress_values = n_lat_axis * slope + intercept\n",
    "line_eq = f\"y = {slope:.2f}x + {intercept:.2f}\"\n",
    "\n",
    "plt.plot(n_lat_axis,regress_values,\"r-\")\n",
    "plt.annotate(line_eq,(10,25),fontsize=15,color=\"red\")\n",
    "\n",
    "print(f\"The r-value is {rvalue}\")\n",
    "\n",
    "plt.tight_layout()\n",
    "\n",
    "plt.savefig(\"../output_data/NorthHem_WindSpeed_vs_Lat_LinRegress.png\")\n",
    "\n",
    "plt.show()\n",
    "\n",
    "print(f\"This model shows the relationship between wind speed\\n\\\n",
    "and proximity to the equator for cities in the Northern Hemisphere.\\n\\\n",
    "This shows a very weak relationship, such that, as a city gets further\\n\\\n",
    "from the equator, there is no indication how windy it will be.\")"
   ]
  },
  {
   "cell_type": "markdown",
   "metadata": {},
   "source": [
    "####  Southern Hemisphere - Wind Speed (mph) vs. Latitude Linear Regression"
   ]
  },
  {
   "cell_type": "code",
   "execution_count": 43,
   "metadata": {},
   "outputs": [
    {
     "name": "stdout",
     "output_type": "stream",
     "text": [
      "The r-value is -0.3104958326296007\n"
     ]
    },
    {
     "data": {
      "image/png": "[encoded data removed]",
      "text/plain": [
       "<Figure size 432x288 with 1 Axes>"
      ]
     },
     "metadata": {
      "needs_background": "light"
     },
     "output_type": "display_data"
    },
    {
     "name": "stdout",
     "output_type": "stream",
     "text": [
      "This model shows the relationship between wind speed\n",
      "and proximity to the equator for cities in the Southern Hemisphere.\n",
      "This shows a weak relationship, such that, as a city gets closer\n",
      "to the equator, the city may be less windy.\n"
     ]
    }
   ],
   "source": [
    "s_lat_axis = south_weather_df[\"Lat\"]\n",
    "s_wind_axis = south_weather_df[\"Wind Speed\"]\n",
    "\n",
    "plt.scatter(s_lat_axis, s_wind_axis)\n",
    "plt.ylabel(\"Wind Speed\")\n",
    "plt.xlabel(\"Latitude\")\n",
    "\n",
    "#linear regression data points\n",
    "(slope, intercept, rvalue, pvalue, stderr) = linregress(s_lat_axis, s_wind_axis)\n",
    "\n",
    "#y=mx+b\n",
    "regress_values = s_lat_axis * slope + intercept\n",
    "line_eq = f\"y = {slope:.2f}x + {intercept:.2f}\"\n",
    "\n",
    "plt.plot(s_lat_axis,regress_values,\"r-\")\n",
    "plt.annotate(line_eq,(-40,20),fontsize=15,color=\"red\")\n",
    "\n",
    "print(f\"The r-value is {rvalue}\")\n",
    "\n",
    "plt.tight_layout()\n",
    "\n",
    "plt.savefig(\"../output_data/SouthHem_WindSpeed_vs_Lat_LinRegress.png\")\n",
    "\n",
    "plt.show()\n",
    "\n",
    "print(f\"This model shows the relationship between wind speed\\n\\\n",
    "and proximity to the equator for cities in the Southern Hemisphere.\\n\\\n",
    "This shows a weak relationship, such that, as a city gets closer\\n\\\n",
    "to the equator, the city may be less windy.\")"
   ]
  },
  {
   "cell_type": "markdown",
   "metadata": {},
   "source": [
    "### Data Analysis\n",
    "    1. In the Northern Hemisphere there is a strong relationship between proximity to the equator and a city's maximum temperature. Cities closer to the equator have greater maximum temperatures. This is demonstrated in the figure: Northern Hemisphere - Max Temp vs. Latitude Linear Regression. \n",
    "    \n",
    "    2.  In the Souther Hemisphere there is a moderate relationship between proximity to the equator and a city's maximum temperature. Cities closer to the equatore are more likely to have a greate maximum temperature as indicated by figure: Southern Hemisphere - Max Temp vs. Latitude Linear Regression\n",
    "    \n",
    "    3. There is no correlation to wind speed in relation to the proximity to the equator as evidenced by figure: Northern Hemisphere - Wind Speed (mph) vs. Latitude Linear Regression."
   ]
  },
  {
   "cell_type": "code",
   "execution_count": null,
   "metadata": {},
   "outputs": [],
   "source": []
  }
 ],
 "metadata": {
  "anaconda-cloud": {},
  "kernel_info": {
   "name": "python3"
  },
  "kernelspec": {
   "display_name": "Python 3",
   "language": "python",
   "name": "python3"
  },
  "language_info": {
   "codemirror_mode": {
    "name": "ipython",
    "version": 3
   },
   "file_extension": ".py",
   "mimetype": "text/x-python",
   "name": "python",
   "nbconvert_exporter": "python",
   "pygments_lexer": "ipython3",
   "version": "3.6.10"
  },
  "latex_envs": {
   "LaTeX_envs_menu_present": true,
   "autoclose": false,
   "autocomplete": true,
   "bibliofile": "biblio.bib",
   "cite_by": "apalike",
   "current_citInitial": 1,
   "eqLabelWithNumbers": true,
   "eqNumInitial": 1,
   "hotkeys": {
    "equation": "Ctrl-E",
    "itemize": "Ctrl-I"
   },
   "labels_anchors": false,
   "latex_user_defs": false,
   "report_style_numbering": false,
   "user_envs_cfg": false
  },
  "nteract": {
   "version": "0.12.3"
  }
 },
 "nbformat": 4,
 "nbformat_minor": 2
}

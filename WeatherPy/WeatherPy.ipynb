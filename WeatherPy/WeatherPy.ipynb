{
 "cells": [
  {
   "cell_type": "markdown",
   "metadata": {},
   "source": [
    "# WeatherPy\n",
    "----\n"
   ]
  },
  {
   "cell_type": "code",
   "execution_count": 2,
   "metadata": {
    "scrolled": true
   },
   "outputs": [],
   "source": [
    "# Dependencies and Setup\n",
    "from datetime import date\n",
    "import matplotlib.pyplot as plt\n",
    "import pandas as pd\n",
    "import numpy as np\n",
    "import requests\n",
    "import time\n",
    "from scipy.stats import linregress\n",
    "\n",
    "# Import API key\n",
    "from api_keys import weather_api_key\n",
    "\n",
    "# Incorporated citipy to determine city based on latitude and longitude\n",
    "from citipy import citipy\n",
    "\n",
    "# Output File (CSV)\n",
    "output_data_file = \"../output_data/cities.csv\"\n",
    "\n",
    "# Range of latitudes and longitudes\n",
    "lat_range = (-90, 90)\n",
    "lng_range = (-180, 180)"
   ]
  },
  {
   "cell_type": "markdown",
   "metadata": {},
   "source": [
    "## Generate Cities List"
   ]
  },
  {
   "cell_type": "code",
   "execution_count": 3,
   "metadata": {},
   "outputs": [
    {
     "data": {
      "text/plain": [
       "594"
      ]
     },
     "execution_count": 3,
     "metadata": {},
     "output_type": "execute_result"
    }
   ],
   "source": [
    "# List for holding lat_lngs and cities\n",
    "lat_lngs = []\n",
    "cities = []\n",
    "\n",
    "# Create a set of random lat and lng combinations\n",
    "lats = np.random.uniform(lat_range[0], lat_range[1], size=1500)\n",
    "lngs = np.random.uniform(lng_range[0], lng_range[1], size=1500)\n",
    "lat_lngs = zip(lats, lngs)\n",
    "\n",
    "# Identify nearest city for each lat, lng combination\n",
    "for lat_lng in lat_lngs:\n",
    "    city = citipy.nearest_city(lat_lng[0], lat_lng[1]).city_name\n",
    "    \n",
    "    # If the city is unique, then add it to a our cities list\n",
    "    if city not in cities:\n",
    "        cities.append(city)\n",
    "\n",
    "# Print the city count to confirm sufficient count\n",
    "len(cities)"
   ]
  },
  {
   "cell_type": "markdown",
   "metadata": {},
   "source": [
    "### Perform API Calls\n",
    "* Perform a weather check on each city using a series of successive API calls.\n",
    "* Include a print log of each city as it'sbeing processed (with the city number and city name).\n"
   ]
  },
  {
   "cell_type": "code",
   "execution_count": 4,
   "metadata": {},
   "outputs": [
    {
     "name": "stdout",
     "output_type": "stream",
     "text": [
      "Beginning data retrieval...\n",
      "Processing record 1 | City: sorvag\n",
      "Could not find all data for city: sorvag\n",
      "Processing record 2 | City: pangnirtung\n",
      "Processing record 3 | City: ushuaia\n",
      "Processing record 4 | City: butaritari\n",
      "Processing record 5 | City: taolanaro\n",
      "Could not find all data for city: taolanaro\n",
      "Processing record 6 | City: saint-francois\n",
      "Processing record 7 | City: punta arenas\n",
      "Processing record 8 | City: rikitea\n",
      "Processing record 9 | City: uyuni\n",
      "Processing record 10 | City: fortuna\n",
      "Processing record 11 | City: evensk\n",
      "Processing record 12 | City: mataura\n",
      "Processing record 13 | City: bluff\n",
      "Processing record 14 | City: laguna\n",
      "Processing record 15 | City: elliot\n",
      "Processing record 16 | City: bloomington\n",
      "Processing record 17 | City: high level\n",
      "Processing record 18 | City: ust-omchug\n",
      "Processing record 19 | City: new norfolk\n",
      "Processing record 20 | City: tura\n",
      "Processing record 21 | City: vranjska banja\n",
      "Processing record 22 | City: torbay\n",
      "Processing record 23 | City: luderitz\n",
      "Processing record 24 | City: leningradskiy\n",
      "Processing record 25 | City: okhotsk\n",
      "Processing record 26 | City: provideniya\n",
      "Processing record 27 | City: kapaa\n",
      "Processing record 28 | City: tatawin\n",
      "Processing record 29 | City: yellowknife\n",
      "Processing record 30 | City: bredasdorp\n",
      "Processing record 31 | City: price\n",
      "Processing record 32 | City: hobart\n",
      "Processing record 33 | City: barentsburg\n",
      "Could not find all data for city: barentsburg\n",
      "Processing record 34 | City: kelo\n",
      "Processing record 35 | City: pevek\n",
      "Processing record 36 | City: ponca city\n",
      "Processing record 37 | City: sakaiminato\n",
      "Processing record 38 | City: busselton\n",
      "Processing record 39 | City: vardo\n",
      "Processing record 40 | City: atuona\n",
      "Processing record 41 | City: pangody\n",
      "Processing record 42 | City: san patricio\n",
      "Processing record 43 | City: puerto ayora\n",
      "Processing record 44 | City: ribeira grande\n",
      "Processing record 45 | City: copiapo\n",
      "Processing record 46 | City: hilo\n",
      "Processing record 47 | City: barrow\n",
      "Processing record 48 | City: hithadhoo\n",
      "Processing record 49 | City: vaini\n",
      "Processing record 50 | City: san quintin\n",
      "Processing record 51 | City: lashio\n",
      "Processing record 52 | City: port alfred\n",
      "Processing record 53 | City: jamestown\n",
      "Processing record 54 | City: tucumcari\n",
      "Processing record 55 | City: labuhan\n",
      "Processing record 56 | City: beringovskiy\n",
      "Processing record 57 | City: hasaki\n",
      "Processing record 58 | City: cape town\n",
      "Processing record 59 | City: geraldton\n",
      "Processing record 60 | City: iracoubo\n",
      "Processing record 61 | City: souillac\n",
      "Processing record 62 | City: belushya guba\n",
      "Could not find all data for city: belushya guba\n",
      "Processing record 63 | City: kushmurun\n",
      "Processing record 64 | City: iquique\n",
      "Processing record 65 | City: talnakh\n",
      "Processing record 66 | City: coquimbo\n",
      "Processing record 67 | City: duvan\n",
      "Processing record 68 | City: avarua\n",
      "Processing record 69 | City: kuche\n",
      "Could not find all data for city: kuche\n",
      "Processing record 70 | City: birjand\n",
      "Processing record 71 | City: cidreira\n",
      "Processing record 72 | City: saleaula\n",
      "Could not find all data for city: saleaula\n",
      "Processing record 73 | City: maryborough\n",
      "Processing record 74 | City: ballina\n",
      "Processing record 75 | City: sao felix do xingu\n",
      "Processing record 76 | City: petropavlovsk-kamchatskiy\n",
      "Processing record 77 | City: san cristobal\n",
      "Processing record 78 | City: nikolskoye\n",
      "Processing record 79 | City: norman wells\n",
      "Processing record 80 | City: magadan\n",
      "Processing record 81 | City: albany\n",
      "Processing record 82 | City: cherskiy\n",
      "Processing record 83 | City: malwan\n",
      "Could not find all data for city: malwan\n",
      "Processing record 84 | City: sobolevo\n",
      "Processing record 85 | City: dingle\n",
      "Processing record 86 | City: illoqqortoormiut\n",
      "Could not find all data for city: illoqqortoormiut\n",
      "Processing record 87 | City: avera\n",
      "Processing record 88 | City: kodiak\n",
      "Processing record 89 | City: amderma\n",
      "Could not find all data for city: amderma\n",
      "Processing record 90 | City: porto torres\n",
      "Processing record 91 | City: alta floresta\n",
      "Processing record 92 | City: kruisfontein\n",
      "Processing record 93 | City: clyde river\n",
      "Processing record 94 | City: klaksvik\n",
      "Processing record 95 | City: khatanga\n",
      "Processing record 96 | City: saint-philippe\n",
      "Processing record 97 | City: innisfail\n",
      "Processing record 98 | City: ardakan\n",
      "Processing record 99 | City: tuktoyaktuk\n",
      "Processing record 100 | City: qaanaaq\n",
      "Processing record 101 | City: anadyr\n",
      "Processing record 102 | City: dikson\n",
      "Processing record 103 | City: port lincoln\n",
      "Processing record 104 | City: mayo\n",
      "Processing record 105 | City: mount isa\n",
      "Processing record 106 | City: georgetown\n",
      "Processing record 107 | City: cancun\n",
      "Processing record 108 | City: christchurch\n",
      "Processing record 109 | City: turinsk\n",
      "Processing record 110 | City: coahuayana\n",
      "Processing record 111 | City: thompson\n",
      "Processing record 112 | City: hamilton\n",
      "Processing record 113 | City: namibe\n",
      "Processing record 114 | City: rawson\n",
      "Processing record 115 | City: chokurdakh\n",
      "Processing record 116 | City: lata\n",
      "Processing record 117 | City: nizhneyansk\n",
      "Could not find all data for city: nizhneyansk\n",
      "Processing record 118 | City: san jeronimo\n",
      "Processing record 119 | City: russell\n",
      "Processing record 120 | City: bengkulu\n",
      "Processing record 121 | City: venice\n",
      "Processing record 122 | City: castro\n",
      "Processing record 123 | City: zemio\n",
      "Processing record 124 | City: shimoda\n",
      "Processing record 125 | City: kolokani\n",
      "Processing record 126 | City: port-gentil\n",
      "Processing record 127 | City: prince george\n",
      "Processing record 128 | City: pachino\n",
      "Processing record 129 | City: salalah\n",
      "Processing record 130 | City: naze\n",
      "Processing record 131 | City: nanortalik\n",
      "Processing record 132 | City: ancud\n",
      "Processing record 133 | City: ilulissat\n",
      "Processing record 134 | City: pinhao\n",
      "Processing record 135 | City: bethel\n",
      "Processing record 136 | City: arraial do cabo\n",
      "Processing record 137 | City: bandarbeyla\n",
      "Processing record 138 | City: hermanus\n",
      "Processing record 139 | City: kuytun\n",
      "Processing record 140 | City: gorin\n",
      "Processing record 141 | City: samarai\n",
      "Processing record 142 | City: severo-kurilsk\n",
      "Processing record 143 | City: hervey bay\n",
      "Processing record 144 | City: vaitupu\n",
      "Could not find all data for city: vaitupu\n",
      "Processing record 145 | City: watsa\n",
      "Processing record 146 | City: ketchikan\n",
      "Processing record 147 | City: cap malheureux\n",
      "Processing record 148 | City: salas\n",
      "Processing record 149 | City: calabozo\n",
      "Processing record 150 | City: winona\n",
      "Processing record 151 | City: arona\n",
      "Processing record 152 | City: esperance\n",
      "Processing record 153 | City: waipawa\n",
      "Processing record 154 | City: nome\n",
      "Processing record 155 | City: kamaishi\n",
      "Processing record 156 | City: batagay-alyta\n",
      "Processing record 157 | City: prince rupert\n",
      "Processing record 158 | City: attawapiskat\n",
      "Could not find all data for city: attawapiskat\n",
      "Processing record 159 | City: ponta do sol\n",
      "Processing record 160 | City: komsomolskiy\n",
      "Processing record 161 | City: mar del plata\n",
      "Processing record 162 | City: barbar\n",
      "Could not find all data for city: barbar\n",
      "Processing record 163 | City: daru\n",
      "Processing record 164 | City: upernavik\n",
      "Processing record 165 | City: bathsheba\n",
      "Processing record 166 | City: sambava\n",
      "Processing record 167 | City: mataram\n",
      "Processing record 168 | City: aklavik\n",
      "Processing record 169 | City: meulaboh\n",
      "Processing record 170 | City: kaitangata\n",
      "Processing record 171 | City: longyearbyen\n",
      "Processing record 172 | City: nizwa\n",
      "Processing record 173 | City: iqaluit\n",
      "Processing record 174 | City: adet\n",
      "Processing record 175 | City: yashkul\n",
      "Processing record 176 | City: morehead\n",
      "Processing record 177 | City: tshikapa\n",
      "Processing record 178 | City: la ronge\n",
      "Processing record 179 | City: tubruq\n",
      "Could not find all data for city: tubruq\n",
      "Processing record 180 | City: rockford\n",
      "Processing record 181 | City: kaeo\n",
      "Processing record 182 | City: victoria\n",
      "Processing record 183 | City: escanaba\n",
      "Processing record 184 | City: blagoyevo\n",
      "Processing record 185 | City: am timan\n",
      "Processing record 186 | City: baherden\n",
      "Processing record 187 | City: aksu\n",
      "Processing record 188 | City: goderich\n",
      "Processing record 189 | City: jensen beach\n",
      "Processing record 190 | City: leninskoye\n",
      "Processing record 191 | City: lincoln\n",
      "Processing record 192 | City: virginia beach\n",
      "Processing record 193 | City: bambous virieux\n",
      "Processing record 194 | City: kavieng\n"
     ]
    },
    {
     "name": "stdout",
     "output_type": "stream",
     "text": [
      "Processing record 195 | City: elko\n",
      "Processing record 196 | City: harper\n",
      "Processing record 197 | City: narsaq\n",
      "Processing record 198 | City: simpang\n",
      "Processing record 199 | City: asilah\n",
      "Processing record 200 | City: yelizovo\n",
      "Processing record 201 | City: lebu\n",
      "Processing record 202 | City: lavrentiya\n",
      "Processing record 203 | City: paamiut\n",
      "Processing record 204 | City: vao\n",
      "Processing record 205 | City: novospasskoye\n",
      "Processing record 206 | City: corinth\n",
      "Processing record 207 | City: cabedelo\n",
      "Processing record 208 | City: san policarpo\n",
      "Processing record 209 | City: tiksi\n",
      "Processing record 210 | City: novobessergenevka\n",
      "Processing record 211 | City: tapaua\n",
      "Could not find all data for city: tapaua\n",
      "Processing record 212 | City: shancheng\n",
      "Processing record 213 | City: sentyabrskiy\n",
      "Could not find all data for city: sentyabrskiy\n",
      "Processing record 214 | City: houston\n",
      "Processing record 215 | City: isiro\n",
      "Processing record 216 | City: krasne\n",
      "Processing record 217 | City: abrau-dyurso\n",
      "Processing record 218 | City: manta\n",
      "Processing record 219 | City: puri\n",
      "Processing record 220 | City: nieuw amsterdam\n",
      "Processing record 221 | City: sao filipe\n",
      "Processing record 222 | City: eisenhuttenstadt\n",
      "Could not find all data for city: eisenhuttenstadt\n",
      "Processing record 223 | City: ostrovnoy\n",
      "Processing record 224 | City: port elizabeth\n",
      "Processing record 225 | City: boone\n",
      "Processing record 226 | City: saldanha\n",
      "Processing record 227 | City: lazaro cardenas\n",
      "Processing record 228 | City: jumla\n",
      "Processing record 229 | City: tasiilaq\n",
      "Processing record 230 | City: san ramon\n",
      "Processing record 231 | City: saint george\n",
      "Processing record 232 | City: tanjong karang\n",
      "Could not find all data for city: tanjong karang\n",
      "Processing record 233 | City: palmer\n",
      "Processing record 234 | City: chapada dos guimaraes\n",
      "Processing record 235 | City: ambodifototra\n",
      "Could not find all data for city: ambodifototra\n",
      "Processing record 236 | City: cangucu\n",
      "Processing record 237 | City: anloga\n",
      "Processing record 238 | City: mount gambier\n",
      "Processing record 239 | City: traralgon\n",
      "Processing record 240 | City: fort nelson\n",
      "Processing record 241 | City: menongue\n",
      "Processing record 242 | City: kugulta\n",
      "Processing record 243 | City: dawson creek\n",
      "Processing record 244 | City: dongning\n",
      "Processing record 245 | City: awjilah\n",
      "Processing record 246 | City: arman\n",
      "Processing record 247 | City: san antonio\n",
      "Processing record 248 | City: katsuura\n",
      "Processing record 249 | City: chuy\n",
      "Processing record 250 | City: monrovia\n",
      "Processing record 251 | City: tautira\n",
      "Processing record 252 | City: tari\n",
      "Processing record 253 | City: carutapera\n",
      "Processing record 254 | City: atkarsk\n",
      "Processing record 255 | City: altay\n",
      "Processing record 256 | City: taoudenni\n",
      "Processing record 257 | City: codrington\n",
      "Processing record 258 | City: saskylakh\n",
      "Processing record 259 | City: goedereede\n",
      "Processing record 260 | City: metro\n",
      "Processing record 261 | City: zhuhai\n",
      "Processing record 262 | City: namatanai\n",
      "Processing record 263 | City: tanjong tokong\n",
      "Could not find all data for city: tanjong tokong\n",
      "Processing record 264 | City: port hawkesbury\n",
      "Processing record 265 | City: pandan\n",
      "Processing record 266 | City: san vicente\n",
      "Processing record 267 | City: santa fe\n",
      "Processing record 268 | City: anori\n",
      "Processing record 269 | City: broken hill\n",
      "Processing record 270 | City: tubuala\n",
      "Processing record 271 | City: mocuba\n",
      "Processing record 272 | City: fare\n",
      "Processing record 273 | City: tome-acu\n",
      "Could not find all data for city: tome-acu\n",
      "Processing record 274 | City: basoko\n",
      "Processing record 275 | City: rundu\n",
      "Processing record 276 | City: airai\n",
      "Processing record 277 | City: lorengau\n",
      "Processing record 278 | City: acari\n",
      "Processing record 279 | City: payakumbuh\n",
      "Processing record 280 | City: batagay\n",
      "Processing record 281 | City: makung\n",
      "Could not find all data for city: makung\n",
      "Processing record 282 | City: manzanillo\n",
      "Processing record 283 | City: carnarvon\n",
      "Processing record 284 | City: kashi\n",
      "Processing record 285 | City: tsiroanomandidy\n",
      "Processing record 286 | City: mahebourg\n",
      "Processing record 287 | City: te anau\n",
      "Processing record 288 | City: alofi\n",
      "Processing record 289 | City: marcona\n",
      "Could not find all data for city: marcona\n",
      "Processing record 290 | City: sabzevar\n",
      "Processing record 291 | City: comodoro rivadavia\n",
      "Processing record 292 | City: umm kaddadah\n",
      "Processing record 293 | City: suleja\n",
      "Processing record 294 | City: anjozorobe\n",
      "Processing record 295 | City: kenai\n",
      "Processing record 296 | City: yar-sale\n",
      "Processing record 297 | City: rock sound\n",
      "Processing record 298 | City: sonepur\n",
      "Processing record 299 | City: tsihombe\n",
      "Could not find all data for city: tsihombe\n",
      "Processing record 300 | City: athabasca\n",
      "Processing record 301 | City: general cepeda\n",
      "Processing record 302 | City: tambura\n",
      "Processing record 303 | City: adrar\n",
      "Processing record 304 | City: kieta\n",
      "Processing record 305 | City: isangel\n",
      "Processing record 306 | City: hukuntsi\n",
      "Processing record 307 | City: bolungarvik\n",
      "Could not find all data for city: bolungarvik\n",
      "Processing record 308 | City: grand gaube\n",
      "Processing record 309 | City: kirakira\n",
      "Processing record 310 | City: artyshta\n",
      "Processing record 311 | City: babusnica\n",
      "Processing record 312 | City: ugoofaaru\n",
      "Processing record 313 | City: zhigansk\n",
      "Processing record 314 | City: muros\n",
      "Processing record 315 | City: sitka\n",
      "Processing record 316 | City: keskin\n",
      "Processing record 317 | City: valparaiso\n",
      "Processing record 318 | City: kyra\n",
      "Processing record 319 | City: nishihara\n",
      "Processing record 320 | City: kamenka\n",
      "Processing record 321 | City: hihifo\n",
      "Could not find all data for city: hihifo\n",
      "Processing record 322 | City: grand centre\n",
      "Could not find all data for city: grand centre\n",
      "Processing record 323 | City: buala\n",
      "Processing record 324 | City: tyukhtet\n",
      "Processing record 325 | City: itaituba\n",
      "Processing record 326 | City: constitucion\n",
      "Processing record 327 | City: hambantota\n",
      "Processing record 328 | City: cairns\n",
      "Processing record 329 | City: ataco\n",
      "Processing record 330 | City: labelle\n",
      "Processing record 331 | City: santa maria\n",
      "Processing record 332 | City: brumadinho\n",
      "Processing record 333 | City: san isidro\n",
      "Processing record 334 | City: umkomaas\n",
      "Processing record 335 | City: picota\n",
      "Processing record 336 | City: port hardy\n",
      "Processing record 337 | City: jalu\n",
      "Processing record 338 | City: hayden\n",
      "Processing record 339 | City: louisbourg\n",
      "Could not find all data for city: louisbourg\n",
      "Processing record 340 | City: osorio\n",
      "Processing record 341 | City: havre-saint-pierre\n",
      "Processing record 342 | City: zhanaozen\n",
      "Processing record 343 | City: ruatoria\n",
      "Could not find all data for city: ruatoria\n",
      "Processing record 344 | City: revda\n",
      "Processing record 345 | City: rio gallegos\n",
      "Processing record 346 | City: coro\n",
      "Processing record 347 | City: yakima\n",
      "Processing record 348 | City: pondicherry\n",
      "Processing record 349 | City: belyy yar\n",
      "Processing record 350 | City: iisalmi\n",
      "Processing record 351 | City: borodino\n",
      "Processing record 352 | City: aybak\n",
      "Could not find all data for city: aybak\n",
      "Processing record 353 | City: loukhi\n",
      "Processing record 354 | City: maceio\n",
      "Processing record 355 | City: jaciara\n",
      "Processing record 356 | City: caravelas\n",
      "Processing record 357 | City: karratha\n",
      "Processing record 358 | City: sumbawa\n",
      "Could not find all data for city: sumbawa\n",
      "Processing record 359 | City: durban\n",
      "Processing record 360 | City: oussouye\n",
      "Processing record 361 | City: berlevag\n",
      "Processing record 362 | City: hualmay\n",
      "Processing record 363 | City: maniitsoq\n",
      "Processing record 364 | City: nedryhayliv\n",
      "Processing record 365 | City: katobu\n",
      "Processing record 366 | City: villeneuve-sur-lot\n",
      "Processing record 367 | City: nizhniy tsasuchey\n",
      "Processing record 368 | City: los llanos de aridane\n",
      "Processing record 369 | City: buariki\n",
      "Could not find all data for city: buariki\n",
      "Processing record 370 | City: yulara\n",
      "Processing record 371 | City: havoysund\n",
      "Processing record 372 | City: luwingu\n",
      "Processing record 373 | City: port hedland\n",
      "Processing record 374 | City: pousat\n",
      "Could not find all data for city: pousat\n",
      "Processing record 375 | City: ganzhou\n",
      "Processing record 376 | City: rapid valley\n",
      "Processing record 377 | City: yatou\n",
      "Processing record 378 | City: asau\n",
      "Processing record 379 | City: zyryanka\n",
      "Processing record 380 | City: jaguarao\n",
      "Processing record 381 | City: ahipara\n"
     ]
    },
    {
     "name": "stdout",
     "output_type": "stream",
     "text": [
      "Processing record 382 | City: port blair\n",
      "Processing record 383 | City: sungairaya\n",
      "Processing record 384 | City: cabo san lucas\n",
      "Processing record 385 | City: umm lajj\n",
      "Processing record 386 | City: ajdabiya\n",
      "Processing record 387 | City: lagoa\n",
      "Processing record 388 | City: east wenatchee\n",
      "Processing record 389 | City: belaya gora\n",
      "Processing record 390 | City: pacific grove\n",
      "Processing record 391 | City: ekhabi\n",
      "Processing record 392 | City: blackwater\n",
      "Processing record 393 | City: plyussa\n",
      "Processing record 394 | City: huazolotitlan\n",
      "Could not find all data for city: huazolotitlan\n",
      "Processing record 395 | City: qaqortoq\n",
      "Processing record 396 | City: saint-augustin\n",
      "Processing record 397 | City: dali\n",
      "Processing record 398 | City: moquegua\n",
      "Processing record 399 | City: broome\n",
      "Processing record 400 | City: atar\n",
      "Processing record 401 | City: tumannyy\n",
      "Could not find all data for city: tumannyy\n",
      "Processing record 402 | City: lompoc\n",
      "Processing record 403 | City: praia da vitoria\n",
      "Processing record 404 | City: sibolga\n",
      "Processing record 405 | City: margate\n",
      "Processing record 406 | City: ergani\n",
      "Processing record 407 | City: east london\n",
      "Processing record 408 | City: shelburne\n",
      "Processing record 409 | City: tecoanapa\n",
      "Processing record 410 | City: tateyama\n",
      "Processing record 411 | City: straumen\n",
      "Processing record 412 | City: elat\n",
      "Processing record 413 | City: pilar\n",
      "Processing record 414 | City: bur gabo\n",
      "Could not find all data for city: bur gabo\n",
      "Processing record 415 | City: samusu\n",
      "Could not find all data for city: samusu\n",
      "Processing record 416 | City: soe\n",
      "Processing record 417 | City: ferme-neuve\n",
      "Processing record 418 | City: tuatapere\n",
      "Processing record 419 | City: fairbanks\n",
      "Processing record 420 | City: auki\n",
      "Processing record 421 | City: valley\n",
      "Processing record 422 | City: saint-pierre\n",
      "Processing record 423 | City: longuenesse\n",
      "Processing record 424 | City: satitoa\n",
      "Could not find all data for city: satitoa\n",
      "Processing record 425 | City: matamoros\n",
      "Processing record 426 | City: half moon bay\n",
      "Processing record 427 | City: faanui\n",
      "Processing record 428 | City: belgaum\n",
      "Processing record 429 | City: creel\n",
      "Processing record 430 | City: boddam\n",
      "Processing record 431 | City: lesnoy\n",
      "Processing record 432 | City: kvarkeno\n",
      "Processing record 433 | City: grindavik\n",
      "Processing record 434 | City: sungai besar\n",
      "Processing record 435 | City: moron\n",
      "Processing record 436 | City: analipsis\n",
      "Processing record 437 | City: canavieiras\n",
      "Processing record 438 | City: grand river south east\n",
      "Could not find all data for city: grand river south east\n",
      "Processing record 439 | City: areosa\n",
      "Processing record 440 | City: ulaanbaatar\n",
      "Processing record 441 | City: marsh harbour\n",
      "Processing record 442 | City: zhangjiakou\n",
      "Processing record 443 | City: srednekolymsk\n",
      "Processing record 444 | City: mujiayingzi\n",
      "Processing record 445 | City: arifwala\n",
      "Processing record 446 | City: koosa\n",
      "Processing record 447 | City: kholodnyy\n",
      "Processing record 448 | City: krasnoselkup\n",
      "Processing record 449 | City: erenhot\n",
      "Processing record 450 | City: puro\n",
      "Processing record 451 | City: inirida\n",
      "Processing record 452 | City: gerash\n",
      "Processing record 453 | City: sidi ali\n",
      "Processing record 454 | City: todos santos\n",
      "Processing record 455 | City: hay river\n",
      "Processing record 456 | City: aswan\n",
      "Processing record 457 | City: bahadurganj\n",
      "Processing record 458 | City: boditi\n",
      "Processing record 459 | City: mendi\n",
      "Processing record 460 | City: puerto leguizamo\n",
      "Processing record 461 | City: burica\n",
      "Could not find all data for city: burica\n",
      "Processing record 462 | City: paso de carrasco\n",
      "Processing record 463 | City: toliary\n",
      "Could not find all data for city: toliary\n",
      "Processing record 464 | City: sao geraldo do araguaia\n",
      "Processing record 465 | City: guatire\n",
      "Processing record 466 | City: nouadhibou\n",
      "Processing record 467 | City: burgeo\n",
      "Processing record 468 | City: gazanjyk\n",
      "Processing record 469 | City: dunedin\n",
      "Processing record 470 | City: bargal\n",
      "Could not find all data for city: bargal\n",
      "Processing record 471 | City: maarianhamina\n",
      "Processing record 472 | City: saint anthony\n",
      "Processing record 473 | City: richards bay\n",
      "Processing record 474 | City: okoneshnikovo\n",
      "Processing record 475 | City: tabarqah\n",
      "Could not find all data for city: tabarqah\n",
      "Processing record 476 | City: tulsipur\n",
      "Processing record 477 | City: acapulco\n",
      "Processing record 478 | City: seddon\n",
      "Processing record 479 | City: adre\n",
      "Processing record 480 | City: bharatpur\n",
      "Processing record 481 | City: road town\n",
      "Processing record 482 | City: ji-parana\n",
      "Could not find all data for city: ji-parana\n",
      "Processing record 483 | City: yumen\n",
      "Processing record 484 | City: portland\n",
      "Processing record 485 | City: roebourne\n",
      "Processing record 486 | City: hyeres\n",
      "Processing record 487 | City: berdigestyakh\n",
      "Processing record 488 | City: vanimo\n",
      "Processing record 489 | City: sur\n",
      "Processing record 490 | City: nguiu\n",
      "Could not find all data for city: nguiu\n",
      "Processing record 491 | City: marzuq\n",
      "Processing record 492 | City: havelock\n",
      "Processing record 493 | City: campbell river\n",
      "Processing record 494 | City: bubaque\n",
      "Processing record 495 | City: napier\n",
      "Processing record 496 | City: chulman\n",
      "Processing record 497 | City: tumen\n",
      "Processing record 498 | City: kulashi\n",
      "Processing record 499 | City: palatka\n",
      "Processing record 500 | City: hofn\n",
      "Processing record 501 | City: rila\n",
      "Processing record 502 | City: temaraia\n",
      "Could not find all data for city: temaraia\n",
      "Processing record 503 | City: tulare\n",
      "Processing record 504 | City: zatoka\n",
      "Processing record 505 | City: north platte\n",
      "Processing record 506 | City: haines junction\n",
      "Processing record 507 | City: chapais\n",
      "Processing record 508 | City: poum\n",
      "Processing record 509 | City: malpe\n",
      "Processing record 510 | City: viedma\n",
      "Processing record 511 | City: bulnes\n",
      "Processing record 512 | City: qunduz\n",
      "Processing record 513 | City: mareeba\n",
      "Processing record 514 | City: domoni\n",
      "Processing record 515 | City: lamu\n",
      "Processing record 516 | City: kedzierzyn-kozle\n",
      "Processing record 517 | City: colares\n",
      "Processing record 518 | City: colac\n",
      "Processing record 519 | City: murgab\n",
      "Processing record 520 | City: canala\n",
      "Processing record 521 | City: ovsyanka\n",
      "Processing record 522 | City: alenquer\n",
      "Processing record 523 | City: khani\n",
      "Processing record 524 | City: veraval\n",
      "Processing record 525 | City: kelvington\n",
      "Processing record 526 | City: wanning\n",
      "Processing record 527 | City: hope\n",
      "Processing record 528 | City: matagami\n",
      "Processing record 529 | City: urucui\n",
      "Processing record 530 | City: marystown\n",
      "Processing record 531 | City: kabinda\n",
      "Processing record 532 | City: ambon\n",
      "Processing record 533 | City: kungurtug\n",
      "Processing record 534 | City: petropavlovka\n",
      "Processing record 535 | City: senanga\n",
      "Processing record 536 | City: marondera\n",
      "Processing record 537 | City: sandpoint\n",
      "Processing record 538 | City: mandurah\n",
      "Processing record 539 | City: phibun mangsahan\n",
      "Processing record 540 | City: faya\n",
      "Processing record 541 | City: mus\n",
      "Processing record 542 | City: cam pha\n",
      "Could not find all data for city: cam pha\n",
      "Processing record 543 | City: igurusi\n",
      "Processing record 544 | City: rudnyy\n",
      "Processing record 545 | City: sakakah\n",
      "Processing record 546 | City: dumai\n",
      "Processing record 547 | City: ferkessedougou\n",
      "Processing record 548 | City: kyabe\n",
      "Processing record 549 | City: antalaha\n",
      "Processing record 550 | City: susanville\n",
      "Processing record 551 | City: porto novo\n",
      "Processing record 552 | City: velsk\n",
      "Processing record 553 | City: cascais\n",
      "Processing record 554 | City: coihaique\n",
      "Processing record 555 | City: garowe\n",
      "Processing record 556 | City: conakry\n",
      "Processing record 557 | City: sento se\n",
      "Could not find all data for city: sento se\n",
      "Processing record 558 | City: bolonchen\n",
      "Could not find all data for city: bolonchen\n",
      "Processing record 559 | City: tignere\n",
      "Processing record 560 | City: baoqing\n",
      "Processing record 561 | City: flin flon\n",
      "Processing record 562 | City: tucuma\n",
      "Processing record 563 | City: yayva\n",
      "Processing record 564 | City: ostersund\n",
      "Processing record 565 | City: mananjary\n",
      "Processing record 566 | City: harnosand\n",
      "Processing record 567 | City: ozgon\n",
      "Could not find all data for city: ozgon\n",
      "Processing record 568 | City: kapit\n",
      "Processing record 569 | City: takoradi\n",
      "Processing record 570 | City: ternate\n",
      "Processing record 571 | City: buchanan\n",
      "Processing record 572 | City: mokhotlong\n"
     ]
    },
    {
     "name": "stdout",
     "output_type": "stream",
     "text": [
      "Processing record 573 | City: murwara\n",
      "Processing record 574 | City: corning\n",
      "Processing record 575 | City: sehithwa\n",
      "Processing record 576 | City: severodvinsk\n",
      "Processing record 577 | City: tigre\n",
      "Processing record 578 | City: kalianget\n",
      "Processing record 579 | City: kabare\n",
      "Processing record 580 | City: novoukrayinka\n",
      "Processing record 581 | City: tabuk\n",
      "Processing record 582 | City: barcelos\n",
      "Processing record 583 | City: wanaka\n",
      "Processing record 584 | City: roswell\n",
      "Processing record 585 | City: aksarka\n",
      "Processing record 586 | City: chino valley\n",
      "Processing record 587 | City: sao joao da barra\n",
      "Processing record 588 | City: mys shmidta\n",
      "Could not find all data for city: mys shmidta\n",
      "Processing record 589 | City: gorontalo\n",
      "Processing record 590 | City: mombaca\n",
      "Processing record 591 | City: baculin\n",
      "Processing record 592 | City: bireun\n",
      "Processing record 593 | City: mitchell\n",
      "Processing record 594 | City: taxisco\n"
     ]
    }
   ],
   "source": [
    "#initialize openweathermap url\n",
    "url = \"http://api.openweathermap.org/data/2.5/weather?\"\n",
    "units = \"imperial\"\n",
    "\n",
    "# Build partial query URL\n",
    "query_url = f\"{url}appid={weather_api_key}&units={units}&q=\"\n",
    "\n",
    "#initiate a counter\n",
    "counter = 0\n",
    "\n",
    "#create lists to store data\n",
    "lat = []\n",
    "lng = []\n",
    "temp = []\n",
    "humid = []\n",
    "cloud = []\n",
    "wind = []\n",
    "cntry = []\n",
    "dt = []\n",
    "city_ls = []\n",
    "\n",
    "print(\"Beginning data retrieval...\")\n",
    "for city in cities:\n",
    "    counter += 1\n",
    "    response = requests.get(query_url + city).json()\n",
    "    print(f\"Processing record {counter} | City: {city}\")\n",
    "    try:\n",
    "        lat.append(response[\"coord\"][\"lat\"])\n",
    "        lng.append(response[\"coord\"][\"lon\"] )\n",
    "        temp.append(response[\"main\"][\"temp_max\"])\n",
    "        humid.append(response[\"main\"][\"humidity\"])\n",
    "        cloud.append(response[\"clouds\"][\"all\"])\n",
    "        wind.append(response[\"wind\"][\"speed\"])\n",
    "        cntry.append(response[\"sys\"][\"country\"])\n",
    "        dt.append(response[\"dt\"])\n",
    "        city_ls.append(city)\n",
    "    except:\n",
    "        print(f\"Could not find all data for city: {city}\")\n",
    "    \n",
    "    #print(query_url + city)\n",
    "    time.sleep(1)\n",
    "#    if counter == 5:\n",
    "#        break\n",
    "\n",
    "#print(f\"The cities are: {city_ls}\")\n",
    "#print(f\"The latitude information received is: {lat}\")\n",
    "#print(f\"The longitude information received is: {lng}\")\n",
    "#print(f\"The temperature information received is: {temp}\")\n",
    "#print(f\"The humidity information received is: {humid}\")\n",
    "#print(f\"The cloud information received is: {cloud}\")\n",
    "#print(f\"The windy information received is: {wind}\")\n",
    "#print(f\"The country information received is: {cntry}\")\n",
    "#print(f\"The datetime information received is: {dt}\")"
   ]
  },
  {
   "cell_type": "markdown",
   "metadata": {},
   "source": [
    "### Convert Raw Data to DataFrame\n",
    "* Export the city data into a .csv.\n",
    "* Display the DataFrame"
   ]
  },
  {
   "cell_type": "code",
   "execution_count": 5,
   "metadata": {},
   "outputs": [
    {
     "data": {
      "text/html": [
       "<div>\n",
       "<style scoped>\n",
       "    .dataframe tbody tr th:only-of-type {\n",
       "        vertical-align: middle;\n",
       "    }\n",
       "\n",
       "    .dataframe tbody tr th {\n",
       "        vertical-align: top;\n",
       "    }\n",
       "\n",
       "    .dataframe thead th {\n",
       "        text-align: right;\n",
       "    }\n",
       "</style>\n",
       "<table border=\"1\" class=\"dataframe\">\n",
       "  <thead>\n",
       "    <tr style=\"text-align: right;\">\n",
       "      <th></th>\n",
       "      <th>City</th>\n",
       "      <th>Lat</th>\n",
       "      <th>Lng</th>\n",
       "      <th>Max Temp</th>\n",
       "      <th>Humidity</th>\n",
       "      <th>Cloudiness</th>\n",
       "      <th>Wind Speed</th>\n",
       "      <th>Country</th>\n",
       "      <th>Date</th>\n",
       "    </tr>\n",
       "  </thead>\n",
       "  <tbody>\n",
       "    <tr>\n",
       "      <th>0</th>\n",
       "      <td>pangnirtung</td>\n",
       "      <td>66.1451</td>\n",
       "      <td>66.1451</td>\n",
       "      <td>5.43</td>\n",
       "      <td>77</td>\n",
       "      <td>0</td>\n",
       "      <td>3.51</td>\n",
       "      <td>CA</td>\n",
       "      <td>1612924237</td>\n",
       "    </tr>\n",
       "    <tr>\n",
       "      <th>1</th>\n",
       "      <td>ushuaia</td>\n",
       "      <td>-54.8000</td>\n",
       "      <td>-54.8000</td>\n",
       "      <td>62.60</td>\n",
       "      <td>72</td>\n",
       "      <td>0</td>\n",
       "      <td>4.61</td>\n",
       "      <td>AR</td>\n",
       "      <td>1612923745</td>\n",
       "    </tr>\n",
       "    <tr>\n",
       "      <th>2</th>\n",
       "      <td>butaritari</td>\n",
       "      <td>3.0707</td>\n",
       "      <td>3.0707</td>\n",
       "      <td>81.63</td>\n",
       "      <td>82</td>\n",
       "      <td>94</td>\n",
       "      <td>15.50</td>\n",
       "      <td>KI</td>\n",
       "      <td>1612924051</td>\n",
       "    </tr>\n",
       "    <tr>\n",
       "      <th>3</th>\n",
       "      <td>saint-francois</td>\n",
       "      <td>46.4154</td>\n",
       "      <td>46.4154</td>\n",
       "      <td>37.40</td>\n",
       "      <td>100</td>\n",
       "      <td>75</td>\n",
       "      <td>2.30</td>\n",
       "      <td>FR</td>\n",
       "      <td>1612924445</td>\n",
       "    </tr>\n",
       "    <tr>\n",
       "      <th>4</th>\n",
       "      <td>punta arenas</td>\n",
       "      <td>-53.1500</td>\n",
       "      <td>-53.1500</td>\n",
       "      <td>62.60</td>\n",
       "      <td>63</td>\n",
       "      <td>0</td>\n",
       "      <td>2.30</td>\n",
       "      <td>CL</td>\n",
       "      <td>1612923724</td>\n",
       "    </tr>\n",
       "  </tbody>\n",
       "</table>\n",
       "</div>"
      ],
      "text/plain": [
       "             City      Lat      Lng  Max Temp  Humidity  Cloudiness  \\\n",
       "0     pangnirtung  66.1451  66.1451      5.43        77           0   \n",
       "1         ushuaia -54.8000 -54.8000     62.60        72           0   \n",
       "2      butaritari   3.0707   3.0707     81.63        82          94   \n",
       "3  saint-francois  46.4154  46.4154     37.40       100          75   \n",
       "4    punta arenas -53.1500 -53.1500     62.60        63           0   \n",
       "\n",
       "   Wind Speed Country        Date  \n",
       "0        3.51      CA  1612924237  \n",
       "1        4.61      AR  1612923745  \n",
       "2       15.50      KI  1612924051  \n",
       "3        2.30      FR  1612924445  \n",
       "4        2.30      CL  1612923724  "
      ]
     },
     "execution_count": 5,
     "metadata": {},
     "output_type": "execute_result"
    }
   ],
   "source": [
    "# create a data frame from cities, lat, and temp\n",
    "weather_dict = {\n",
    "    \"City\": city_ls,\n",
    "    \"Lat\": lat,\n",
    "    \"Lng\": lat,\n",
    "    \"Max Temp\": temp,\n",
    "    \"Humidity\": humid,\n",
    "    \"Cloudiness\": cloud,\n",
    "    \"Wind Speed\": wind,\n",
    "    \"Country\": cntry,\n",
    "    \"Date\": dt\n",
    "}\n",
    "weather_data = pd.DataFrame(weather_dict)\n",
    "weather_data.head()"
   ]
  },
  {
   "cell_type": "code",
   "execution_count": 6,
   "metadata": {},
   "outputs": [
    {
     "name": "stdout",
     "output_type": "stream",
     "text": [
      "Weather data saved to: ../output_data/cities.csv\n"
     ]
    }
   ],
   "source": [
    "#save weather data to csv output file\n",
    "try:\n",
    "    weather_data.to_csv(output_data_file, index=False)\n",
    "    print(f\"Weather data saved to: {output_data_file}\")\n",
    "except:\n",
    "    print(f\"City weather data not saved.\")"
   ]
  },
  {
   "cell_type": "markdown",
   "metadata": {},
   "source": [
    "## Inspect the data and remove the cities where the humidity > 100%.\n",
    "----\n"
   ]
  },
  {
   "cell_type": "code",
   "execution_count": 7,
   "metadata": {},
   "outputs": [
    {
     "name": "stdout",
     "output_type": "stream",
     "text": [
      "There were no records with humidity above 100%.\n"
     ]
    },
    {
     "data": {
      "text/html": [
       "<div>\n",
       "<style scoped>\n",
       "    .dataframe tbody tr th:only-of-type {\n",
       "        vertical-align: middle;\n",
       "    }\n",
       "\n",
       "    .dataframe tbody tr th {\n",
       "        vertical-align: top;\n",
       "    }\n",
       "\n",
       "    .dataframe thead th {\n",
       "        text-align: right;\n",
       "    }\n",
       "</style>\n",
       "<table border=\"1\" class=\"dataframe\">\n",
       "  <thead>\n",
       "    <tr style=\"text-align: right;\">\n",
       "      <th></th>\n",
       "      <th>City</th>\n",
       "      <th>Lat</th>\n",
       "      <th>Lng</th>\n",
       "      <th>Max Temp</th>\n",
       "      <th>Humidity</th>\n",
       "      <th>Cloudiness</th>\n",
       "      <th>Wind Speed</th>\n",
       "      <th>Country</th>\n",
       "      <th>Date</th>\n",
       "    </tr>\n",
       "  </thead>\n",
       "  <tbody>\n",
       "    <tr>\n",
       "      <th>0</th>\n",
       "      <td>pangnirtung</td>\n",
       "      <td>66.1451</td>\n",
       "      <td>66.1451</td>\n",
       "      <td>5.43</td>\n",
       "      <td>77</td>\n",
       "      <td>0</td>\n",
       "      <td>3.51</td>\n",
       "      <td>CA</td>\n",
       "      <td>1612924237</td>\n",
       "    </tr>\n",
       "    <tr>\n",
       "      <th>1</th>\n",
       "      <td>ushuaia</td>\n",
       "      <td>-54.8000</td>\n",
       "      <td>-54.8000</td>\n",
       "      <td>62.60</td>\n",
       "      <td>72</td>\n",
       "      <td>0</td>\n",
       "      <td>4.61</td>\n",
       "      <td>AR</td>\n",
       "      <td>1612923745</td>\n",
       "    </tr>\n",
       "    <tr>\n",
       "      <th>2</th>\n",
       "      <td>butaritari</td>\n",
       "      <td>3.0707</td>\n",
       "      <td>3.0707</td>\n",
       "      <td>81.63</td>\n",
       "      <td>82</td>\n",
       "      <td>94</td>\n",
       "      <td>15.50</td>\n",
       "      <td>KI</td>\n",
       "      <td>1612924051</td>\n",
       "    </tr>\n",
       "    <tr>\n",
       "      <th>3</th>\n",
       "      <td>saint-francois</td>\n",
       "      <td>46.4154</td>\n",
       "      <td>46.4154</td>\n",
       "      <td>37.40</td>\n",
       "      <td>100</td>\n",
       "      <td>75</td>\n",
       "      <td>2.30</td>\n",
       "      <td>FR</td>\n",
       "      <td>1612924445</td>\n",
       "    </tr>\n",
       "    <tr>\n",
       "      <th>4</th>\n",
       "      <td>punta arenas</td>\n",
       "      <td>-53.1500</td>\n",
       "      <td>-53.1500</td>\n",
       "      <td>62.60</td>\n",
       "      <td>63</td>\n",
       "      <td>0</td>\n",
       "      <td>2.30</td>\n",
       "      <td>CL</td>\n",
       "      <td>1612923724</td>\n",
       "    </tr>\n",
       "  </tbody>\n",
       "</table>\n",
       "</div>"
      ],
      "text/plain": [
       "             City      Lat      Lng  Max Temp  Humidity  Cloudiness  \\\n",
       "0     pangnirtung  66.1451  66.1451      5.43        77           0   \n",
       "1         ushuaia -54.8000 -54.8000     62.60        72           0   \n",
       "2      butaritari   3.0707   3.0707     81.63        82          94   \n",
       "3  saint-francois  46.4154  46.4154     37.40       100          75   \n",
       "4    punta arenas -53.1500 -53.1500     62.60        63           0   \n",
       "\n",
       "   Wind Speed Country        Date  \n",
       "0        3.51      CA  1612924237  \n",
       "1        4.61      AR  1612923745  \n",
       "2       15.50      KI  1612924051  \n",
       "3        2.30      FR  1612924445  \n",
       "4        2.30      CL  1612923724  "
      ]
     },
     "execution_count": 7,
     "metadata": {},
     "output_type": "execute_result"
    }
   ],
   "source": [
    "#set csv file\n",
    "weather_csv = \"../output_data/cities.csv\"\n",
    "\n",
    "#read csv into dataframe\n",
    "weather_df = pd.read_csv(weather_csv)\n",
    "\n",
    "#determine original row count\n",
    "orig_len = len(weather_df)\n",
    "\n",
    "#drop dataframe rows where the humidity is above 100\n",
    "indexes_to_drop = weather_df.loc[weather_df[\"Humidity\"]>100, :].index\n",
    "\n",
    "#drop any rows within current dataframe where humidity above 100%\n",
    "weather_df.drop(indexes_to_drop, inplace=True)\n",
    "\n",
    "#determine new row count\n",
    "dropped_index_len = len(weather_df)\n",
    "\n",
    "#determine if rows were dropped due to over 100 humidity\n",
    "if orig_len == dropped_index_len:\n",
    "    print(f\"There were no records with humidity above 100%.\")\n",
    "    \n",
    "else:\n",
    "    dropped_row_count = orig_len - dropped_index_len\n",
    "    print(f\"There were {dropped_row_count} rows dropped. The new row count is {dropped_index_len}.\")\n",
    "    \n",
    "weather_df.head()"
   ]
  },
  {
   "cell_type": "markdown",
   "metadata": {},
   "source": [
    "## Plotting the Data\n",
    "* Use proper labeling of the plots using plot titles (including date of analysis) and axes labels.\n",
    "* Save the plotted figures as .pngs."
   ]
  },
  {
   "cell_type": "markdown",
   "metadata": {},
   "source": [
    "## Temperature vs. Latitude Plot"
   ]
  },
  {
   "cell_type": "code",
   "execution_count": 100,
   "metadata": {},
   "outputs": [
    {
     "data": {
      "image/png": "[encoded data removed]",
      "text/plain": [
       "<Figure size 432x288 with 1 Axes>"
      ]
     },
     "metadata": {
      "needs_background": "light"
     },
     "output_type": "display_data"
    }
   ],
   "source": [
    "lat_axis = weather_df[\"Lat\"]\n",
    "temp_axis = weather_df[\"Max Temp\"]\n",
    "today = date.today().strftime(\"%m/%d/%y\")\n",
    "\n",
    "plt.scatter(lat_axis, temp_axis, edgecolors=\"black\")\n",
    "plt.ylabel(\"Max Temperature (\\N{DEGREE SIGN}F)\")\n",
    "plt.xlabel(\"Latitude\")\n",
    "plt.title(f\"Max Temperature vs. City Latitude ({today})\")\n",
    "plt.grid()\n",
    "\n",
    "plt.savefig(\"../output_data/Temp_vs_Lat.png\")\n",
    "\n",
    "plt.show()"
   ]
  },
  {
   "cell_type": "markdown",
   "metadata": {},
   "source": [
    "## Humidity vs. Latitude Plot"
   ]
  },
  {
   "cell_type": "code",
   "execution_count": 90,
   "metadata": {},
   "outputs": [
    {
     "data": {
      "image/png": "[encoded data removed]",
      "text/plain": [
       "<Figure size 432x288 with 1 Axes>"
      ]
     },
     "metadata": {
      "needs_background": "light"
     },
     "output_type": "display_data"
    }
   ],
   "source": [
    "lat_axis = weather_df[\"Lat\"]\n",
    "humid_axis = weather_df[\"Humidity\"]\n",
    "today = date.today().strftime(\"%m/%d/%y\")\n",
    "\n",
    "plt.scatter(lat_axis, humid_axis, edgecolors=\"black\")\n",
    "plt.ylabel(\"Humidity (%)\")\n",
    "plt.xlabel(\"Latitude\")\n",
    "plt.title(f\"Humidity vs. City Latitude ({today})\")\n",
    "plt.grid()\n",
    "\n",
    "plt.savefig(\"../output_data/Humidity_vs_Lat.png\")\n",
    "\n",
    "plt.show()"
   ]
  },
  {
   "cell_type": "markdown",
   "metadata": {},
   "source": [
    "## Cloudiness vs. Latitude Plot"
   ]
  },
  {
   "cell_type": "code",
   "execution_count": 12,
   "metadata": {},
   "outputs": [
    {
     "data": {
      "image/png": "[encoded data removed]",
      "text/plain": [
       "<Figure size 432x288 with 1 Axes>"
      ]
     },
     "metadata": {
      "needs_background": "light"
     },
     "output_type": "display_data"
    }
   ],
   "source": [
    "lat_axis = weather_df[\"Lat\"]\n",
    "cloud_axis = weather_df[\"Cloudiness\"]\n",
    "today = date.today().strftime(\"%m/%d/%y\")\n",
    "\n",
    "plt.scatter(lat_axis, cloud_axis, edgecolors=\"black\")\n",
    "plt.ylabel(\"Cloudiness (%)\")\n",
    "plt.xlabel(\"Latitude\")\n",
    "plt.title(f\"Cloudiness vs. City Latitude ({today})\")\n",
    "plt.grid()\n",
    "\n",
    "plt.savefig(\"../output_data/Cloudiness_vs_Lat.png\")\n",
    "\n",
    "plt.show()"
   ]
  },
  {
   "cell_type": "markdown",
   "metadata": {},
   "source": [
    "## Wind Speed vs. Latitude Plot"
   ]
  },
  {
   "cell_type": "code",
   "execution_count": 91,
   "metadata": {},
   "outputs": [
    {
     "data": {
      "image/png": "[encoded data removed]",
      "text/plain": [
       "<Figure size 432x288 with 1 Axes>"
      ]
     },
     "metadata": {
      "needs_background": "light"
     },
     "output_type": "display_data"
    }
   ],
   "source": [
    "lat_axis = weather_df[\"Lat\"]\n",
    "wind_axis = weather_df[\"Wind Speed\"]\n",
    "today = date.today().strftime(\"%m/%d/%y\")\n",
    "\n",
    "plt.scatter(lat_axis, wind_axis, edgecolors=\"black\")\n",
    "plt.ylabel(\"Wind Speed (mph)\")\n",
    "plt.xlabel(\"Latitude\")\n",
    "plt.title(f\"Wind Speed vs City Latitude ({today})\")\n",
    "plt.grid()\n",
    "\n",
    "plt.savefig(\"../output_data/Wind_vs_Lat.png\")\n",
    "\n",
    "plt.show()"
   ]
  },
  {
   "cell_type": "markdown",
   "metadata": {},
   "source": [
    "## Linear Regression\n",
    "The following models use these r-value descriptors:\n",
    " - 0.00-0.19: very weak\n",
    " - 0.20-0.39: weak\n",
    " - 0.40-0.59: moderate \n",
    " - 0.60-0.79: strong\n",
    " - 0.80-1.00: very strong"
   ]
  },
  {
   "cell_type": "code",
   "execution_count": 15,
   "metadata": {},
   "outputs": [],
   "source": [
    "#Split weather data into northern souther hemispheres\n",
    "north_weather_df = weather_df.loc[weather_df[\"Lat\"]>=0, :]\n",
    "south_weather_df = weather_df.loc[weather_df[\"Lat\"]<0, :]\n"
   ]
  },
  {
   "cell_type": "markdown",
   "metadata": {},
   "source": [
    "####  Northern Hemisphere - Max Temp vs. Latitude Linear Regression"
   ]
  },
  {
   "cell_type": "code",
   "execution_count": 92,
   "metadata": {},
   "outputs": [
    {
     "name": "stdout",
     "output_type": "stream",
     "text": [
      "The r-value is -0.8787868931191358\n"
     ]
    },
    {
     "data": {
      "image/png": "[encoded data removed]",
      "text/plain": [
       "<Figure size 432x288 with 1 Axes>"
      ]
     },
     "metadata": {
      "needs_background": "light"
     },
     "output_type": "display_data"
    },
    {
     "name": "stdout",
     "output_type": "stream",
     "text": [
      "This model shows the relationship between temperature\n",
      "and proximity to the equator for cities in the Northern Hemisphere.\n",
      "This shows a very strong relationship, such that, as a city gets further\n",
      "from the equator, it's maximum temperature decreases.\n"
     ]
    }
   ],
   "source": [
    "lat_axis = north_weather_df[\"Lat\"]\n",
    "temp_axis = north_weather_df[\"Max Temp\"]\n",
    "\n",
    "plt.scatter(lat_axis, temp_axis)\n",
    "plt.ylabel(\"Max Temp\")\n",
    "plt.xlabel(\"Latitude\")\n",
    "\n",
    "#linear regression data points\n",
    "(slope, intercept, rvalue, pvalue, stderr) = linregress(lat_axis, temp_axis)\n",
    "\n",
    "#y=mx+b\n",
    "regress_values = lat_axis * slope + intercept\n",
    "line_eq = f\"y = {slope:.2f}x + {intercept:.2f}\"\n",
    "\n",
    "plt.plot(lat_axis,regress_values,\"r-\")\n",
    "plt.annotate(line_eq,(0,-35),fontsize=15,color=\"red\")\n",
    "\n",
    "print(f\"The r-value is {rvalue}\")\n",
    "\n",
    "plt.tight_layout()\n",
    "\n",
    "plt.savefig(\"../output_data/NorthHem_MaxTemp_vs_Lat_LinRegress.png\")\n",
    "\n",
    "plt.show()\n",
    "\n",
    "print(f\"This model shows the relationship between temperature\\n\\\n",
    "and proximity to the equator for cities in the Northern Hemisphere.\\n\\\n",
    "This shows a very strong relationship, such that, as a city gets further\\n\\\n",
    "from the equator, it's maximum temperature decreases.\")"
   ]
  },
  {
   "cell_type": "markdown",
   "metadata": {},
   "source": [
    "####  Southern Hemisphere - Max Temp vs. Latitude Linear Regression"
   ]
  },
  {
   "cell_type": "code",
   "execution_count": 93,
   "metadata": {},
   "outputs": [
    {
     "name": "stdout",
     "output_type": "stream",
     "text": [
      "The r-value is 0.46840058882440494\n"
     ]
    },
    {
     "data": {
      "image/png": "[encoded data removed]",
      "text/plain": [
       "<Figure size 432x288 with 1 Axes>"
      ]
     },
     "metadata": {
      "needs_background": "light"
     },
     "output_type": "display_data"
    },
    {
     "name": "stdout",
     "output_type": "stream",
     "text": [
      "This model shows the relationship between temperature\n",
      "and proximity to the equator for cities in the Southern Hemisphere.\n",
      "This shows a moderate relationship, such that, as a city gets closer\n",
      "to the equator, it's maximum temperature may increase.\n"
     ]
    }
   ],
   "source": [
    "lat_axis = south_weather_df[\"Lat\"]\n",
    "temp_axis = south_weather_df[\"Max Temp\"]\n",
    "\n",
    "plt.scatter(lat_axis, temp_axis)\n",
    "plt.ylabel(\"Max Temp\")\n",
    "plt.xlabel(\"Latitude\")\n",
    "\n",
    "#linear regression data points\n",
    "(slope, intercept, rvalue, pvalue, stderr) = linregress(lat_axis, temp_axis)\n",
    "\n",
    "#y=mx+b\n",
    "regress_values = lat_axis * slope + intercept\n",
    "line_eq = f\"y = {slope:.2f}x + {intercept:.2f}\"\n",
    "\n",
    "plt.plot(lat_axis,regress_values,\"r-\")\n",
    "plt.annotate(line_eq,(-55, 90),fontsize=15,color=\"red\")\n",
    "\n",
    "print(f\"The r-value is {rvalue}\")\n",
    "\n",
    "plt.tight_layout()\n",
    "\n",
    "plt.savefig(\"../output_data/SouthHem_MaxTemp_vs_Lat_LinRegress.png\")\n",
    "\n",
    "plt.show()\n",
    "\n",
    "print(f\"This model shows the relationship between temperature\\n\\\n",
    "and proximity to the equator for cities in the Southern Hemisphere.\\n\\\n",
    "This shows a moderate relationship, such that, as a city gets closer\\n\\\n",
    "to the equator, it's maximum temperature may increase.\")"
   ]
  },
  {
   "cell_type": "markdown",
   "metadata": {},
   "source": [
    "####  Northern Hemisphere - Humidity (%) vs. Latitude Linear Regression"
   ]
  },
  {
   "cell_type": "code",
   "execution_count": 94,
   "metadata": {},
   "outputs": [
    {
     "name": "stdout",
     "output_type": "stream",
     "text": [
      "The r-value is 0.32839101554733036\n"
     ]
    },
    {
     "data": {
      "image/png": "[encoded data removed]",
      "text/plain": [
       "<Figure size 432x288 with 1 Axes>"
      ]
     },
     "metadata": {
      "needs_background": "light"
     },
     "output_type": "display_data"
    },
    {
     "name": "stdout",
     "output_type": "stream",
     "text": [
      "This model shows the relationship between humidity\n",
      "and proximity to the equator for cities in the Northern Hemisphere.\n",
      "This shows a weak relationship, such that, as a city gets further\n",
      "from the equator, it's humidity may increase.\n"
     ]
    }
   ],
   "source": [
    "lat_axis = north_weather_df[\"Lat\"]\n",
    "humid_axis = north_weather_df[\"Humidity\"]\n",
    "\n",
    "plt.scatter(lat_axis, humid_axis)\n",
    "plt.ylabel(\"Humidity\")\n",
    "plt.xlabel(\"Latitude\")\n",
    "\n",
    "#linear regression data points\n",
    "(slope, intercept, rvalue, pvalue, stderr) = linregress(lat_axis, humid_axis)\n",
    "\n",
    "#y=mx+b\n",
    "regress_values = lat_axis * slope + intercept\n",
    "line_eq = f\"y = {slope:.2f}x + {intercept:.2f}\"\n",
    "\n",
    "plt.plot(lat_axis,regress_values,\"r-\")\n",
    "plt.annotate(line_eq,(40,40),fontsize=15,color=\"red\")\n",
    "\n",
    "print(f\"The r-value is {rvalue}\")\n",
    "\n",
    "plt.tight_layout()\n",
    "\n",
    "plt.savefig(\"../output_data/NorthHem_Humidity_vs_Lat_LinRegress.png\")\n",
    "\n",
    "plt.show()\n",
    "\n",
    "print(f\"This model shows the relationship between humidity\\n\\\n",
    "and proximity to the equator for cities in the Northern Hemisphere.\\n\\\n",
    "This shows a weak relationship, such that, as a city gets further\\n\\\n",
    "from the equator, it's humidity may increase.\")"
   ]
  },
  {
   "cell_type": "markdown",
   "metadata": {},
   "source": [
    "####  Southern Hemisphere - Humidity (%) vs. Latitude Linear Regression"
   ]
  },
  {
   "cell_type": "code",
   "execution_count": 95,
   "metadata": {},
   "outputs": [
    {
     "name": "stdout",
     "output_type": "stream",
     "text": [
      "The r-value is 0.21975011818431486\n"
     ]
    },
    {
     "data": {
      "image/png": "[encoded data removed]",
      "text/plain": [
       "<Figure size 432x288 with 1 Axes>"
      ]
     },
     "metadata": {
      "needs_background": "light"
     },
     "output_type": "display_data"
    },
    {
     "name": "stdout",
     "output_type": "stream",
     "text": [
      "This model shows the relationship between humidity\n",
      "and proximity to the equator for cities in the Northern Hemisphere.\n",
      "This shows a weak relationship, such that, as a city gets closer\n",
      "to the equator, it's humidity may increase.\n"
     ]
    }
   ],
   "source": [
    "lat_axis = south_weather_df[\"Lat\"]\n",
    "humid_axis = south_weather_df[\"Humidity\"]\n",
    "\n",
    "plt.scatter(lat_axis, humid_axis)\n",
    "plt.ylabel(\"Humidity\")\n",
    "plt.xlabel(\"Latitude\")\n",
    "\n",
    "#linear regression data points\n",
    "(slope, intercept, rvalue, pvalue, stderr) = linregress(lat_axis, humid_axis)\n",
    "\n",
    "#y=mx+b\n",
    "regress_values = lat_axis * slope + intercept\n",
    "line_eq = f\"y = {slope:.2f}x + {intercept:.2f}\"\n",
    "\n",
    "plt.plot(lat_axis,regress_values,\"r-\")\n",
    "plt.annotate(line_eq,(-40,30),fontsize=15,color=\"red\")\n",
    "\n",
    "print(f\"The r-value is {rvalue}\")\n",
    "\n",
    "plt.tight_layout()\n",
    "\n",
    "plt.savefig(\"../output_data/SouthHem_Humidity_vs_Lat_LinRegress.png\")\n",
    "\n",
    "plt.show()\n",
    "\n",
    "print(f\"This model shows the relationship between humidity\\n\\\n",
    "and proximity to the equator for cities in the Northern Hemisphere.\\n\\\n",
    "This shows a weak relationship, such that, as a city gets closer\\n\\\n",
    "to the equator, it's humidity may increase.\")"
   ]
  },
  {
   "cell_type": "markdown",
   "metadata": {},
   "source": [
    "####  Northern Hemisphere - Cloudiness (%) vs. Latitude Linear Regression"
   ]
  },
  {
   "cell_type": "code",
   "execution_count": 96,
   "metadata": {},
   "outputs": [
    {
     "name": "stdout",
     "output_type": "stream",
     "text": [
      "The r-value is -0.014552254856282006\n"
     ]
    },
    {
     "data": {
      "image/png": "[encoded data removed]",
      "text/plain": [
       "<Figure size 432x288 with 1 Axes>"
      ]
     },
     "metadata": {
      "needs_background": "light"
     },
     "output_type": "display_data"
    },
    {
     "name": "stdout",
     "output_type": "stream",
     "text": [
      "This model shows the relationship between cloudiness\n",
      "and proximity to the equator for cities in the Northern Hemisphere.\n",
      "This shows a very weak relationship, such that, as a city gets further\n",
      "from the equator, there is no indication how cloudy it will be.\n"
     ]
    }
   ],
   "source": [
    "n_lat_axis = north_weather_df[\"Lat\"]\n",
    "n_cloud_axis = north_weather_df[\"Cloudiness\"]\n",
    "\n",
    "plt.scatter(n_lat_axis, n_cloud_axis)\n",
    "plt.ylabel(\"Cloudiness\")\n",
    "plt.xlabel(\"Latitude\")\n",
    "\n",
    "#linear regression data points\n",
    "(slope, intercept, rvalue, pvalue, stderr) = linregress(n_lat_axis, n_cloud_axis)\n",
    "\n",
    "#y=mx+b\n",
    "regress_values = n_lat_axis * slope + intercept\n",
    "line_eq = f\"y = {slope:.2f}x + {intercept:.2f}\"\n",
    "\n",
    "plt.plot(n_lat_axis,regress_values,\"r-\")\n",
    "plt.annotate(line_eq,(40,30),fontsize=15,color=\"red\")\n",
    "\n",
    "print(f\"The r-value is {rvalue}\")\n",
    "\n",
    "plt.tight_layout()\n",
    "\n",
    "plt.savefig(\"../output_data/NorthHem_Cloudiness_vs_Lat_LinRegress.png\")\n",
    "\n",
    "plt.show()\n",
    "\n",
    "print(f\"This model shows the relationship between cloudiness\\n\\\n",
    "and proximity to the equator for cities in the Northern Hemisphere.\\n\\\n",
    "This shows a very weak relationship, such that, as a city gets further\\n\\\n",
    "from the equator, there is no indication how cloudy it will be.\")"
   ]
  },
  {
   "cell_type": "markdown",
   "metadata": {},
   "source": [
    "####  Southern Hemisphere - Cloudiness (%) vs. Latitude Linear Regression"
   ]
  },
  {
   "cell_type": "code",
   "execution_count": 97,
   "metadata": {},
   "outputs": [
    {
     "name": "stdout",
     "output_type": "stream",
     "text": [
      "The r-value is 0.35940151370980705\n"
     ]
    },
    {
     "data": {
      "image/png": "[encoded data removed]",
      "text/plain": [
       "<Figure size 432x288 with 1 Axes>"
      ]
     },
     "metadata": {
      "needs_background": "light"
     },
     "output_type": "display_data"
    },
    {
     "name": "stdout",
     "output_type": "stream",
     "text": [
      "This model shows the relationship between cloudiness\n",
      "and proximity to the equator for cities in the Southern Hemisphere.\n",
      "This shows a weak relationship, such that, as a city gets closer\n",
      "to the equator, it may be cloudier.\n"
     ]
    }
   ],
   "source": [
    "s_lat_axis = south_weather_df[\"Lat\"]\n",
    "s_cloud_axis = south_weather_df[\"Cloudiness\"]\n",
    "\n",
    "plt.scatter(s_lat_axis, s_cloud_axis)\n",
    "plt.ylabel(\"Cloudiness\")\n",
    "plt.xlabel(\"Latitude\")\n",
    "\n",
    "#linear regression data points\n",
    "(slope, intercept, rvalue, pvalue, stderr) = linregress(s_lat_axis, s_cloud_axis)\n",
    "\n",
    "#y=mx+b\n",
    "regress_values = s_lat_axis * slope + intercept\n",
    "line_eq = f\"y = {slope:.2f}x + {intercept:.2f}\"\n",
    "\n",
    "plt.plot(s_lat_axis,regress_values,\"r-\")\n",
    "plt.annotate(line_eq,(-55,50),fontsize=15,color=\"red\")\n",
    "\n",
    "print(f\"The r-value is {rvalue}\")\n",
    "\n",
    "plt.tight_layout()\n",
    "\n",
    "plt.savefig(\"../output_data/SouthHem_Cloudiness_vs_Lat_LinRegress.png\")\n",
    "\n",
    "plt.show()\n",
    "\n",
    "print(f\"This model shows the relationship between cloudiness\\n\\\n",
    "and proximity to the equator for cities in the Southern Hemisphere.\\n\\\n",
    "This shows a weak relationship, such that, as a city gets closer\\n\\\n",
    "to the equator, it may be cloudier.\")"
   ]
  },
  {
   "cell_type": "markdown",
   "metadata": {},
   "source": [
    "####  Northern Hemisphere - Wind Speed (mph) vs. Latitude Linear Regression"
   ]
  },
  {
   "cell_type": "code",
   "execution_count": 98,
   "metadata": {},
   "outputs": [
    {
     "name": "stdout",
     "output_type": "stream",
     "text": [
      "The r-value is 0.13601388416573595\n"
     ]
    },
    {
     "data": {
      "image/png": "[encoded data removed]",
      "text/plain": [
       "<Figure size 432x288 with 1 Axes>"
      ]
     },
     "metadata": {
      "needs_background": "light"
     },
     "output_type": "display_data"
    },
    {
     "name": "stdout",
     "output_type": "stream",
     "text": [
      "This model shows the relationship between wind speed\n",
      "and proximity to the equator for cities in the Northern Hemisphere.\n",
      "This shows a very weak relationship, such that, as a city gets further\n",
      "from the equator, there is no indication how windy it will be.\n"
     ]
    }
   ],
   "source": [
    "n_lat_axis = north_weather_df[\"Lat\"]\n",
    "n_wind_axis = north_weather_df[\"Wind Speed\"]\n",
    "\n",
    "plt.scatter(n_lat_axis, n_wind_axis)\n",
    "plt.ylabel(\"Wind Speed\")\n",
    "plt.xlabel(\"Latitude\")\n",
    "\n",
    "#linear regression data points\n",
    "(slope, intercept, rvalue, pvalue, stderr) = linregress(n_lat_axis, n_wind_axis)\n",
    "\n",
    "#y=mx+b\n",
    "regress_values = n_lat_axis * slope + intercept\n",
    "line_eq = f\"y = {slope:.2f}x + {intercept:.2f}\"\n",
    "\n",
    "plt.plot(n_lat_axis,regress_values,\"r-\")\n",
    "plt.annotate(line_eq,(10,25),fontsize=15,color=\"red\")\n",
    "\n",
    "print(f\"The r-value is {rvalue}\")\n",
    "\n",
    "plt.tight_layout()\n",
    "\n",
    "plt.savefig(\"../output_data/NorthHem_WindSpeed_vs_Lat_LinRegress.png\")\n",
    "\n",
    "plt.show()\n",
    "\n",
    "print(f\"This model shows the relationship between wind speed\\n\\\n",
    "and proximity to the equator for cities in the Northern Hemisphere.\\n\\\n",
    "This shows a very weak relationship, such that, as a city gets further\\n\\\n",
    "from the equator, there is no indication how windy it will be.\")"
   ]
  },
  {
   "cell_type": "markdown",
   "metadata": {},
   "source": [
    "####  Southern Hemisphere - Wind Speed (mph) vs. Latitude Linear Regression"
   ]
  },
  {
   "cell_type": "code",
   "execution_count": 99,
   "metadata": {},
   "outputs": [
    {
     "name": "stdout",
     "output_type": "stream",
     "text": [
      "The r-value is -0.11901513757543886\n"
     ]
    },
    {
     "data": {
      "image/png": "[encoded data removed]",
      "text/plain": [
       "<Figure size 432x288 with 1 Axes>"
      ]
     },
     "metadata": {
      "needs_background": "light"
     },
     "output_type": "display_data"
    },
    {
     "name": "stdout",
     "output_type": "stream",
     "text": [
      "This model shows the relationship between wind speed\n",
      "and proximity to the equator for cities in the Southern Hemisphere.\n",
      "This shows a weak relationship, such that, as a city gets closer\n",
      "to the equator, there is no indication how windy it will be.\n"
     ]
    }
   ],
   "source": [
    "s_lat_axis = south_weather_df[\"Lat\"]\n",
    "s_wind_axis = south_weather_df[\"Wind Speed\"]\n",
    "\n",
    "plt.scatter(s_lat_axis, s_wind_axis)\n",
    "plt.ylabel(\"Wind Speed\")\n",
    "plt.xlabel(\"Latitude\")\n",
    "\n",
    "#linear regression data points\n",
    "(slope, intercept, rvalue, pvalue, stderr) = linregress(s_lat_axis, s_wind_axis)\n",
    "\n",
    "#y=mx+b\n",
    "regress_values = s_lat_axis * slope + intercept\n",
    "line_eq = f\"y = {slope:.2f}x + {intercept:.2f}\"\n",
    "\n",
    "plt.plot(s_lat_axis,regress_values,\"r-\")\n",
    "plt.annotate(line_eq,(-40,20),fontsize=15,color=\"red\")\n",
    "\n",
    "print(f\"The r-value is {rvalue}\")\n",
    "\n",
    "plt.tight_layout()\n",
    "\n",
    "plt.savefig(\"../output_data/SouthHem_WindSpeed_vs_Lat_LinRegress.png\")\n",
    "\n",
    "plt.show()\n",
    "\n",
    "print(f\"This model shows the relationship between wind speed\\n\\\n",
    "and proximity to the equator for cities in the Southern Hemisphere.\\n\\\n",
    "This shows a weak relationship, such that, as a city gets closer\\n\\\n",
    "to the equator, there is no indication how windy it will be.\")"
   ]
  },
  {
   "cell_type": "code",
   "execution_count": null,
   "metadata": {},
   "outputs": [],
   "source": []
  }
 ],
 "metadata": {
  "anaconda-cloud": {},
  "kernel_info": {
   "name": "python3"
  },
  "kernelspec": {
   "display_name": "Python 3",
   "language": "python",
   "name": "python3"
  },
  "language_info": {
   "codemirror_mode": {
    "name": "ipython",
    "version": 3
   },
   "file_extension": ".py",
   "mimetype": "text/x-python",
   "name": "python",
   "nbconvert_exporter": "python",
   "pygments_lexer": "ipython3",
   "version": "3.6.10"
  },
  "latex_envs": {
   "LaTeX_envs_menu_present": true,
   "autoclose": false,
   "autocomplete": true,
   "bibliofile": "biblio.bib",
   "cite_by": "apalike",
   "current_citInitial": 1,
   "eqLabelWithNumbers": true,
   "eqNumInitial": 1,
   "hotkeys": {
    "equation": "Ctrl-E",
    "itemize": "Ctrl-I"
   },
   "labels_anchors": false,
   "latex_user_defs": false,
   "report_style_numbering": false,
   "user_envs_cfg": false
  },
  "nteract": {
   "version": "0.12.3"
  }
 },
 "nbformat": 4,
 "nbformat_minor": 2
}
